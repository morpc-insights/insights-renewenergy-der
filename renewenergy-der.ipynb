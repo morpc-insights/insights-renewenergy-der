{
 "cells": [
  {
   "cell_type": "markdown",
   "id": "5c699616-fd0b-4345-b204-a7eaee51fd95",
   "metadata": {},
   "source": [
    "# MORPC Insights - Distributed Energy Resources (DER)"
   ]
  },
  {
   "cell_type": "markdown",
   "id": "f266558b-c357-429c-b3ec-074e23751904",
   "metadata": {},
   "source": [
    "## Overview"
   ]
  },
  {
   "cell_type": "markdown",
   "id": "caffba84-d13c-412f-8992-c686048f1a68",
   "metadata": {},
   "source": [
    "The Public Utilities Commission of Ohio maintains a [database](https://maps.puco.ohio.gov/arcgis/rest/services/electric/Distributed_Energy_Resources/MapServer/0/) containing the locations and attributes of distributed energy resources (DER) facilities and an associated [dashboard](https://maps.puco.ohio.gov/portal/apps/dashboards/ef2586cbf54b42cd8f5af3cf5c5da296). The dashboard provides the following notes:\n",
    "  - A distributed energy resource (DER) is a source of electric power that is not directly connected to a bulk power system. DER includes both generators and energy storage technologies capable of exporting active power to the electric grid.\n",
    "  - Energy Storage Capacity is reflective of standalone energy storage systems, not hybrid systems where capacity is already reported/captured in the generating units.\n",
    "  - \"Other\" Fuel Types include Waste Gas, Biofuel, Diesel, Natural Gas/Propane, Coal, Cogeneration, and Hydro.\n",
    "  \n",
    "This notebook produces a tileset that includes a summary of DER facilities for the MORPC 15-county region and the counties and communities therein.  This notebook is the final stage in a pipeline that fetches, standardizes, and summarizes the DER facility data."
   ]
  },
  {
   "cell_type": "markdown",
   "id": "12f498db-624a-4612-98bc-4fb293545126",
   "metadata": {},
   "source": [
    "## Setup"
   ]
  },
  {
   "cell_type": "markdown",
   "id": "e78b2de3-e2a7-4a7f-8ac4-15b7ec9e1878",
   "metadata": {},
   "source": [
    "### Load required libraries"
   ]
  },
  {
   "cell_type": "code",
   "execution_count": null,
   "id": "218f7cbb-4c18-4bb6-b5c9-67b13bbf20cb",
   "metadata": {},
   "outputs": [],
   "source": [
    "import pandas as pd\n",
    "import frictionless\n",
    "import os\n",
    "import sys\n",
    "import json\n",
    "import datetime\n",
    "import textwrap\n",
    "import matplotlib\n",
    "from matplotlib import pyplot as plt\n",
    "sys.path.append(os.path.normpath(\"../morpc-common\"))\n",
    "import morpc"
   ]
  },
  {
   "cell_type": "markdown",
   "id": "7dafa778-fe68-4ff2-845a-071e1953d178",
   "metadata": {},
   "source": [
    "### User-specified parameters"
   ]
  },
  {
   "cell_type": "code",
   "execution_count": null,
   "id": "cda8a1e3-db9a-4d81-a3d4-146e8f66018c",
   "metadata": {},
   "outputs": [],
   "source": [
    "YEAR_RANGE = [2000, 2024]"
   ]
  },
  {
   "cell_type": "markdown",
   "id": "2d807186-9539-4286-b975-68d7afa999aa",
   "metadata": {},
   "source": [
    "### Static parameters"
   ]
  },
  {
   "cell_type": "code",
   "execution_count": null,
   "id": "1c95808b-a8b8-45e2-9653-7f177dbf7cf5",
   "metadata": {},
   "outputs": [],
   "source": [
    "INPUT_DIR = os.path.normpath(\"./input_data\")\n",
    "\n",
    "OUTPUT_DIR = os.path.normpath(\"./output_data\")\n",
    "\n",
    "CHART_DIRNAME = \"charts\""
   ]
  },
  {
   "cell_type": "markdown",
   "id": "3e0f86cf-e578-43c5-809a-10502263c5c4",
   "metadata": {},
   "source": [
    "### Define inputs"
   ]
  },
  {
   "cell_type": "markdown",
   "id": "7778c336-3e52-4beb-848a-66eaa6eb221d",
   "metadata": {},
   "source": [
    "#### Create input data directory"
   ]
  },
  {
   "cell_type": "markdown",
   "id": "d6036e8e-8c0c-41bf-8f2a-4bd63ec21059",
   "metadata": {},
   "source": [
    "Create input data directory if it doesn't exist."
   ]
  },
  {
   "cell_type": "code",
   "execution_count": null,
   "id": "50e4f010-ae38-416f-80a5-c5c0cf3e444e",
   "metadata": {},
   "outputs": [],
   "source": [
    "inputDir = os.path.normpath(INPUT_DIR)\n",
    "if not os.path.exists(inputDir):\n",
    "    os.makedirs(inputDir)"
   ]
  },
  {
   "cell_type": "markdown",
   "id": "88bb506d-be1a-4cee-9274-28fe61c80c01",
   "metadata": {},
   "source": [
    "#### Summarized DER facilities data"
   ]
  },
  {
   "cell_type": "code",
   "execution_count": null,
   "id": "fed15fa9-86db-4a47-88d3-6e73260c0128",
   "metadata": {},
   "outputs": [],
   "source": [
    "DER_INPUT_TABLE_RESOURCE = os.path.normpath(\"../morpc-renewenergyfacilities-summarize/output_data/morpc-renewenergyfacilities-der-long.resource.yaml\")\n",
    "print(\"Resource file: {}\".format(DER_INPUT_TABLE_RESOURCE))"
   ]
  },
  {
   "cell_type": "markdown",
   "id": "12c9c103-eaef-4a34-b51d-b9680aaf68cc",
   "metadata": {},
   "source": [
    "#### Geography lookup table [375]"
   ]
  },
  {
   "cell_type": "code",
   "execution_count": null,
   "id": "b72ed961-5dfe-43db-9bbd-ab328fa7c9c5",
   "metadata": {},
   "outputs": [],
   "source": [
    "GEOS_LOOKUP_TABLE_RESOURCE = os.path.normpath(\"../morpc-geos-collect/output_data/morpc-geos-lookup.resource.yaml\")\n",
    "print(\"Resource file: {}\".format(GEOS_LOOKUP_TABLE_RESOURCE))"
   ]
  },
  {
   "cell_type": "markdown",
   "id": "5d6c7a61-3941-47ee-983f-f2d06776df24",
   "metadata": {},
   "source": [
    "#### MORPC member list [122]"
   ]
  },
  {
   "cell_type": "code",
   "execution_count": null,
   "id": "dfec2f2b-1333-4a86-968f-84da9df08ecf",
   "metadata": {},
   "outputs": [],
   "source": [
    "MEMBERS_DATA_PATH = \"../morpc-lookup/Member_List.xlsx\"\n",
    "MEMBERS_SHEET = \"Current Year Members\"\n",
    "MEMBERS_SCHEMA_PATH = \"../morpc-lookup/Member_List_schema.json\"\n",
    "print(\"Data: {}, sheet '{}'\".format(MEMBERS_DATA_PATH, MEMBERS_SHEET))\n",
    "print(\"Schema: {}\".format(MEMBERS_SCHEMA_PATH))"
   ]
  },
  {
   "cell_type": "markdown",
   "id": "ae74c606-606d-406e-bef1-ec740db1c0ed",
   "metadata": {
    "tags": []
   },
   "source": [
    "### Define outputs"
   ]
  },
  {
   "cell_type": "markdown",
   "id": "e99f094c-d946-4f72-8184-f5cea1cd18ea",
   "metadata": {
    "tags": []
   },
   "source": [
    "#### Create output data directory"
   ]
  },
  {
   "cell_type": "markdown",
   "id": "1ede1075-913c-4ec7-9f81-2b593d8dbea7",
   "metadata": {},
   "source": [
    "Create output data directory if it doesn't exist."
   ]
  },
  {
   "cell_type": "code",
   "execution_count": null,
   "id": "6eb8522f-e434-4530-9f5f-4f3a9cf0ff5e",
   "metadata": {},
   "outputs": [],
   "source": [
    "outputDir = os.path.normpath(OUTPUT_DIR)\n",
    "if not os.path.exists(outputDir):\n",
    "    os.makedirs(outputDir)   "
   ]
  },
  {
   "cell_type": "code",
   "execution_count": null,
   "id": "ed0fd019-9624-47a0-8cf0-9f494057663c",
   "metadata": {},
   "outputs": [],
   "source": [
    "chartDir = os.path.join(outputDir, CHART_DIRNAME)\n",
    "if not os.path.exists(chartDir):\n",
    "    os.makedirs(chartDir)    "
   ]
  },
  {
   "cell_type": "markdown",
   "id": "2ea44deb-b239-4ae1-9040-244404a429b5",
   "metadata": {
    "tags": []
   },
   "source": [
    "#### DER facilities by year"
   ]
  },
  {
   "cell_type": "code",
   "execution_count": null,
   "id": "d0746090-6e45-40e4-a248-81b52879e4f1",
   "metadata": {},
   "outputs": [],
   "source": [
    "FACILITIES_TABLE_FILENAME = \"renewenergy-der-long.csv\"\n",
    "FACILITIES_TABLE_PATH = os.path.join(outputDir, FACILITIES_TABLE_FILENAME)\n",
    "FACILITIES_TABLE_SCHEMA_PATH = FACILITIES_TABLE_PATH.replace(\".csv\",\".schema.yaml\")\n",
    "FACILITIES_TABLE_RESOURCE_PATH = FACILITIES_TABLE_PATH.replace(\".csv\",\".resource.yaml\")\n",
    "print(\"Data: {}\".format(FACILITIES_TABLE_PATH))\n",
    "print(\"Schema: {}\".format(FACILITIES_TABLE_SCHEMA_PATH))\n",
    "print(\"Resource file: {}\".format(FACILITIES_TABLE_RESOURCE_PATH))"
   ]
  },
  {
   "cell_type": "markdown",
   "id": "acfb611a-e884-49ee-8431-adac7534438d",
   "metadata": {},
   "source": [
    "## Prepare input data"
   ]
  },
  {
   "cell_type": "markdown",
   "id": "e2ee9926-8ed4-4f8d-8a30-e2ce931b8fb8",
   "metadata": {},
   "source": [
    "### Load geography lookup table"
   ]
  },
  {
   "cell_type": "code",
   "execution_count": null,
   "id": "ea238b49-e395-4837-9189-2c317e1b2381",
   "metadata": {
    "scrolled": true
   },
   "outputs": [],
   "source": [
    "(geosRaw, geosRawResource, geosRawSchema) = morpc.frictionless_load_data(GEOS_LOOKUP_TABLE_RESOURCE, validate=True, archiveDir=inputDir)"
   ]
  },
  {
   "cell_type": "code",
   "execution_count": null,
   "id": "b75205b3-fbbe-4e9b-ae5f-2967b577aeec",
   "metadata": {},
   "outputs": [],
   "source": [
    "geosRaw.head()"
   ]
  },
  {
   "cell_type": "code",
   "execution_count": null,
   "id": "7ceef01b-05a6-4af6-859d-7c8a1896e5aa",
   "metadata": {},
   "outputs": [],
   "source": [
    "geos = geosRaw.copy()"
   ]
  },
  {
   "cell_type": "markdown",
   "id": "1fdab135-8283-49f2-b8b3-94f6b7c3b43c",
   "metadata": {},
   "source": [
    "### Load summarized DER facility data from upstream workflows"
   ]
  },
  {
   "cell_type": "code",
   "execution_count": null,
   "id": "2d947ec7-5338-47ef-8a66-418db1472a88",
   "metadata": {},
   "outputs": [],
   "source": [
    "(facilitiesRaw, facilitiesRawResource, facilitiesRawSchema) = morpc.frictionless_load_data(DER_INPUT_TABLE_RESOURCE, validate=True, archiveDir=inputDir)"
   ]
  },
  {
   "cell_type": "code",
   "execution_count": null,
   "id": "c308f782-ac11-4073-97bc-6b3b02706754",
   "metadata": {},
   "outputs": [],
   "source": [
    "facilitiesRaw.head()"
   ]
  },
  {
   "cell_type": "markdown",
   "id": "c29961dd-87c3-4a39-96d2-a7cd61255966",
   "metadata": {},
   "source": [
    "### MORPC member list"
   ]
  },
  {
   "cell_type": "markdown",
   "id": "97f8eda7-d676-42be-9450-b1c449ea01d2",
   "metadata": {},
   "source": [
    "The output data will include all communities for whom data has not been suppressed, however we will only show data for MORPC members in the platform."
   ]
  },
  {
   "cell_type": "markdown",
   "id": "e4e2bc51-5445-42fb-8e46-52190793196d",
   "metadata": {},
   "source": [
    "Load the member table."
   ]
  },
  {
   "cell_type": "code",
   "execution_count": null,
   "id": "61d720c7-80fe-484d-9f53-2622b1077bbe",
   "metadata": {},
   "outputs": [],
   "source": [
    "membersRaw = pd.read_excel(MEMBERS_DATA_PATH, sheet_name=MEMBERS_SHEET)\n",
    "membersRaw.head()"
   ]
  },
  {
   "cell_type": "markdown",
   "id": "19c51f5c-c82d-453c-8363-0be3e7927514",
   "metadata": {},
   "source": [
    "Load the schema."
   ]
  },
  {
   "cell_type": "code",
   "execution_count": null,
   "id": "7add8fc6-0436-4018-b364-19e4231a9a5d",
   "metadata": {},
   "outputs": [],
   "source": [
    "membersSchema = morpc.load_avro_schema(MEMBERS_SCHEMA_PATH)"
   ]
  },
  {
   "cell_type": "markdown",
   "id": "6101ed3a-7c54-453f-871f-3288acab01d4",
   "metadata": {},
   "source": [
    "Verify that the fields are all the expected types."
   ]
  },
  {
   "cell_type": "code",
   "execution_count": null,
   "id": "8b0906af-639d-4ab6-8cda-c61c272705f5",
   "metadata": {
    "scrolled": true
   },
   "outputs": [],
   "source": [
    "members = morpc.cast_field_types(membersRaw, membersSchema)"
   ]
  },
  {
   "cell_type": "markdown",
   "id": "ec8c65de-ba5c-4262-a719-1f79f923d890",
   "metadata": {},
   "source": [
    "Extract only the communities which are themselves a member."
   ]
  },
  {
   "cell_type": "code",
   "execution_count": null,
   "id": "79f91ad9-586f-4f2f-90d6-dc567cc3f180",
   "metadata": {},
   "outputs": [],
   "source": [
    "members = members.loc[members[\"Local Member\"] == True].copy()"
   ]
  },
  {
   "cell_type": "markdown",
   "id": "b94ae797-3271-43f1-89dc-2a5bbabf755a",
   "metadata": {},
   "source": [
    "The records in the member table are all county parts.  For places we need to subsitute the GEOID for the full place rather than the county part."
   ]
  },
  {
   "cell_type": "code",
   "execution_count": null,
   "id": "b600a1af-b8bc-488d-a309-9e3f41982926",
   "metadata": {},
   "outputs": [],
   "source": [
    "members[\"PLACEFP\"] = members[\"GEOID\"].apply(lambda x:x[11:16])\n",
    "members[\"COUSUBFP\"] = members[\"GEOID\"].apply(lambda x:x[14:19])\n",
    "members[\"COUNTYID\"] = members[\"County\"].map(morpc.CONST_COUNTY_NAME_TO_ID)\n",
    "members[\"GEOIDFQ\"] = None\n",
    "temp = members.loc[members[\"GovType\"] == \"Township\"].copy()\n",
    "temp[\"GEOIDFQ\"] = temp[\"GEOID\"]\n",
    "members.update(temp)\n",
    "temp = members.loc[members[\"GovType\"] != \"Township\"].copy()\n",
    "temp[\"GEOIDFQ\"] = \"1600000US39\" + temp[\"PLACEFP\"]\n",
    "members.update(temp)"
   ]
  },
  {
   "cell_type": "markdown",
   "id": "e2243082-c666-46eb-a91c-a451472900d8",
   "metadata": {},
   "source": [
    "Now extract just the list of member GEOIDs.  The steps above likely produced duplicate records for places, so extract only the unique GEOIDs."
   ]
  },
  {
   "cell_type": "code",
   "execution_count": null,
   "id": "5db1cd30-bd83-4dd1-ab8a-36477357b737",
   "metadata": {},
   "outputs": [],
   "source": [
    "memberList = list(members[\"GEOIDFQ\"].unique())"
   ]
  },
  {
   "cell_type": "markdown",
   "id": "dc9e6836-0493-4606-b79c-f9faf58e7b98",
   "metadata": {},
   "source": [
    "We also need to append the list of counties.  We will include data for all counties regardless of membership status."
   ]
  },
  {
   "cell_type": "code",
   "execution_count": null,
   "id": "6c636723-7395-43f0-8006-b9734f4c5b3a",
   "metadata": {},
   "outputs": [],
   "source": [
    "memberList += [\"0500000US{}\".format(morpc.CONST_COUNTY_NAME_TO_ID[x]) for x in morpc.CONST_REGIONS['REGION15']]"
   ]
  },
  {
   "cell_type": "markdown",
   "id": "5ef3c2cd-9e90-4b6b-9e78-82f2a19c073b",
   "metadata": {},
   "source": [
    "Finally we need to append the ID for the MORPC region."
   ]
  },
  {
   "cell_type": "code",
   "execution_count": null,
   "id": "63b6e70a-457f-4cbf-bbce-7d8865300d3c",
   "metadata": {},
   "outputs": [],
   "source": [
    "memberList.append(\"M010000US001\")"
   ]
  },
  {
   "cell_type": "markdown",
   "id": "0c7bced1-052e-402d-85f4-609304af24d2",
   "metadata": {},
   "source": [
    "## Transform data to format required by Insights platform"
   ]
  },
  {
   "cell_type": "code",
   "execution_count": null,
   "id": "ab8d3893-70f5-4d37-afc4-545288377cf2",
   "metadata": {},
   "outputs": [],
   "source": [
    "facilities = facilitiesRaw.loc[facilitiesRaw[\"YEAR\"].isin(range(YEAR_RANGE[0], YEAR_RANGE[1]+1))].copy()\n",
    "facilities[\"GEOTYPE\"] = facilities[\"SUMLEVEL\"].map(morpc.HIERARCHY_STRING_LOOKUP)"
   ]
  },
  {
   "cell_type": "code",
   "execution_count": null,
   "id": "18a0f552-7350-4bb9-9104-988f751b03ee",
   "metadata": {},
   "outputs": [],
   "source": [
    "facilities = facilities.drop(columns=\"NAME\").merge(geos[[\"GEOIDFQ\",\"COUNTYFP\",\"NAME\"]], on=\"GEOIDFQ\")\n",
    "facilities[\"COUNTYFP\"] = \"39\" + facilities[\"COUNTYFP\"]\n",
    "facilities[\"COUNTY\"] = facilities[\"COUNTYFP\"].map(morpc.CONST_COUNTY_ID_TO_NAME)"
   ]
  },
  {
   "cell_type": "code",
   "execution_count": null,
   "id": "15a91312-3cdd-4fc8-babf-d796fd04f8dc",
   "metadata": {},
   "outputs": [],
   "source": [
    "temp = facilities.loc[facilities[\"SUMLEVEL\"] == \"070\"].copy()\n",
    "temp[\"NAME\"] = temp[\"NAME\"] + \" Township (\" + temp[\"COUNTY\"] + \")\"\n",
    "facilities.update(temp, overwrite=True, errors=\"ignore\")"
   ]
  },
  {
   "cell_type": "code",
   "execution_count": null,
   "id": "e280eddb-b257-45c9-b7e4-344105961be6",
   "metadata": {},
   "outputs": [],
   "source": [
    "temp = facilities.loc[facilities[\"SUMLEVEL\"] == \"050\"].copy()\n",
    "temp[\"NAME\"] = temp[\"NAME\"] + \" County\"\n",
    "facilities.update(temp, overwrite=True, errors=\"ignore\")"
   ]
  },
  {
   "cell_type": "code",
   "execution_count": null,
   "id": "16372f85-88ac-4cd8-ba4e-345077aeaec6",
   "metadata": {},
   "outputs": [],
   "source": [
    "facilities = facilities.filter(items=[\"GEOIDFQ\",\"NAME\",\"GEOTYPE\",\"YEAR\",\"METRIC\",\"FUEL_TYPE\",\"VALUE\"], axis=\"columns\")"
   ]
  },
  {
   "cell_type": "code",
   "execution_count": null,
   "id": "927d95ae-b8e4-4c69-944b-6317a32a3f99",
   "metadata": {},
   "outputs": [],
   "source": [
    "facilities = facilities.pivot(index=[\"GEOIDFQ\",\"NAME\",\"GEOTYPE\",\"YEAR\",\"FUEL_TYPE\"], columns=\"METRIC\", values=\"VALUE\").reset_index()"
   ]
  },
  {
   "cell_type": "code",
   "execution_count": null,
   "id": "fb0d1779-bd8d-4f2b-9004-41a0a4ae8b00",
   "metadata": {},
   "outputs": [],
   "source": [
    "facilities.columns.name = None"
   ]
  },
  {
   "cell_type": "code",
   "execution_count": null,
   "id": "2347afb0-9efe-40ec-875a-16e8bec50811",
   "metadata": {},
   "outputs": [],
   "source": [
    "facilities = facilities.rename(columns={\n",
    "        \"Capacity\":\"CAPACITY\",\n",
    "        \"Facilities\":\"FACILITIES\"\n",
    "    }) \\\n",
    "    .astype({\n",
    "        \"CAPACITY\":\"float\",\n",
    "        \"FACILITIES\":\"int\"\n",
    "    })"
   ]
  },
  {
   "cell_type": "code",
   "execution_count": null,
   "id": "d196525e-673c-42a9-8efb-a0f4b7756821",
   "metadata": {},
   "outputs": [],
   "source": [
    "facilities = facilities.filter(items=[\"GEOIDFQ\",\"NAME\",\"GEOTYPE\",\"YEAR\",\"METRIC\",\"FUEL_TYPE\",\"FACILITIES\",\"CAPACITY\"], axis=\"columns\")"
   ]
  },
  {
   "cell_type": "code",
   "execution_count": null,
   "id": "15ce2285-f8fc-4215-9a91-e57c8721f631",
   "metadata": {},
   "outputs": [],
   "source": [
    "facilities.head()"
   ]
  },
  {
   "cell_type": "markdown",
   "id": "b845876e-aee4-4410-a205-c43379000d4e",
   "metadata": {},
   "source": [
    "## Export data"
   ]
  },
  {
   "cell_type": "code",
   "execution_count": null,
   "id": "82acae8d-4415-45e2-97e8-ece0ab62d669",
   "metadata": {},
   "outputs": [],
   "source": [
    "facilities.to_csv(FACILITIES_TABLE_PATH, index=False)"
   ]
  },
  {
   "cell_type": "markdown",
   "id": "5958e6a6-1ed1-4f30-9f0d-e1584a7ca0c2",
   "metadata": {},
   "source": [
    "## Create resource file for exported data"
   ]
  },
  {
   "cell_type": "code",
   "execution_count": null,
   "id": "6a8c0cfb-5fae-447a-8d79-3ef8414eadd4",
   "metadata": {
    "scrolled": true
   },
   "outputs": [],
   "source": [
    "facilitiesResource = morpc.frictionless_create_resource(FACILITIES_TABLE_FILENAME, \n",
    "    resourcePath=FACILITIES_TABLE_RESOURCE_PATH,\n",
    "    title=\"MORPC Insights | Distributed Energy Resources Facilities by Year\", \n",
    "    name=\"renewenergy_der\", \n",
    "    description=\"Count and generation capacity of Central Ohio Distributed Energy Resources facilites which opened in each year according to data maintained by the Public Utilities Commission of Central Ohio.\",\n",
    "    writeResource=True,\n",
    "    validate=True\n",
    ")"
   ]
  },
  {
   "cell_type": "markdown",
   "id": "f9168648-3b4f-48b8-8e06-06f6b3b4ce49",
   "metadata": {},
   "source": [
    "## Generate static charts"
   ]
  },
  {
   "cell_type": "code",
   "execution_count": null,
   "id": "44d354a1-1fab-4fac-af54-fa42fe3e702e",
   "metadata": {},
   "outputs": [],
   "source": [
    "for f in os.scandir(chartDir):\n",
    "    os.remove(f)"
   ]
  },
  {
   "cell_type": "markdown",
   "id": "dbb2896f-25ab-4916-a1ff-2afb28d3d77f",
   "metadata": {},
   "source": [
    "Load a standard color set for the chart elements."
   ]
  },
  {
   "cell_type": "code",
   "execution_count": null,
   "id": "13650e55-8157-473c-ba3f-8526cc3b58bb",
   "metadata": {},
   "outputs": [],
   "source": [
    "colorset = json.loads(json.dumps(morpc.CONST_COLOR_CYCLES[\"matplotlib\"]))"
   ]
  },
  {
   "cell_type": "markdown",
   "id": "c53b7111-c1a4-4d9e-9ba8-3f63e769bb88",
   "metadata": {},
   "source": [
    "### Facilities"
   ]
  },
  {
   "cell_type": "code",
   "execution_count": null,
   "id": "035cfd7b-d7ee-4131-9329-e6d3d46c7b74",
   "metadata": {
    "tags": []
   },
   "outputs": [],
   "source": [
    "%matplotlib agg\n",
    "\n",
    "# Create a list to accumulate geographies for which a thumbnail is generated\n",
    "platformIncludeList = []\n",
    "# Iterate over each geography in data set\n",
    "for geoid in facilities[\"GEOIDFQ\"].unique():\n",
    "    # If the geography is not a MORPC member, skip it. The platform only features members.\n",
    "    if(not geoid in memberList):\n",
    "        continue\n",
    "    \n",
    "    # Extract the data for a single geography\n",
    "    temp = facilities.loc[facilities[\"GEOIDFQ\"] == geoid].copy()\n",
    "\n",
    "    if(temp.empty):\n",
    "        continue\n",
    "        \n",
    "    platformIncludeList.append(geoid)\n",
    "\n",
    "    # Generate a title string\n",
    "    geoName = temp.iloc[0][\"NAME\"]\n",
    "    title = \"Distributed Energy Resources Facilities by Year Opened - {}\".format(geoName)\n",
    "    xlabel = None\n",
    "    ylabel = None\n",
    "    \n",
    "    # Drop the geography name and type\n",
    "    temp = temp.filter(items=[\"YEAR\",\"FUEL_TYPE\",\"FACILITIES\"], axis=\"columns\")\n",
    "\n",
    "    # Make the variable names nicer looking\n",
    "    temp = temp.rename(columns={\n",
    "        \"YEAR\":\"Year\",\n",
    "        \"FUEL_TYPE\":\"Fuel type\",\n",
    "        \"FACILITIES\":\"Facilities\"\n",
    "    })\n",
    "    labels = temp[\"Fuel type\"].unique()\n",
    "    labels = [textwrap.fill(label, 15) for label in labels]\n",
    "\n",
    "    # Pivot to wide format\n",
    "    temp = temp.pivot(index=\"Year\", columns=\"Fuel type\").reset_index()\n",
    "    \n",
    "    # Create and annotate the plot\n",
    "    PLOTWIDTH = 8\n",
    "    fig,ax = plt.subplots(figsize=(PLOTWIDTH,PLOTWIDTH/16*9))\n",
    "\n",
    "    temp.plot.bar(ax=ax, x=\"Year\", y=\"Facilities\", stacked=True, color=colorset)\n",
    "    temp = facilities.loc[facilities[\"GEOIDFQ\"] == geoid].copy()\n",
    "    \n",
    "    ax.set_title(title, fontsize=14)\n",
    "    ax.set_xlabel(xlabel)\n",
    "    ax.set_ylabel(ylabel)\n",
    "    ax.set_yticks([round(tick,0) for tick in ax.get_yticks()])\n",
    "    legend = ax.legend(labels, loc='center left', bbox_to_anchor=(1, 0.5), labelspacing=1)\n",
    "    ax.grid(visible=True, color=\"lightgrey\")\n",
    "    ax.set_axisbelow(True)\n",
    "    \n",
    "    # Format the y-axis labels as integers with comma separators\n",
    "    ax.get_yaxis().set_major_formatter(matplotlib.ticker.FuncFormatter(lambda x, p: format(int(x), ',')))\n",
    "    \n",
    "    # Save the figure to disk as an SVG file\n",
    "    ax.figure.savefig(os.path.join(chartDir, \"facilities-{}.svg\".format(geoid)), bbox_extra_artists=(legend,), bbox_inches='tight')\n",
    "    \n",
    "    plt.close(ax.figure)\n",
    "\n",
    "    excelData = temp[[\"YEAR\",\"FUEL_TYPE\",\"CAPACITY\"]].pivot(index=\"YEAR\", columns=\"FUEL_TYPE\", values=\"CAPACITY\")\n",
    "    excelData = excelData.rename(columns={\n",
    "        \"FACILITIES\":\"Facilities\"\n",
    "    })\n",
    "    excelData.index.name = \"Open year\"\n",
    "    excelData.columns.name = None\n",
    "\n",
    "    writer = pd.ExcelWriter(os.path.join(chartDir, \"facilities-{}.xlsx\".format(geoid)), engine='xlsxwriter')\n",
    "    dataOptions = {\n",
    "        \"numberFormat\": {\n",
    "            'Open year': \"0\",\n",
    "            'Biofuel': \"#,##0\",\n",
    "            'Energy Storage': \"#,##0\",\n",
    "            'Natural Gas/Propane': \"#,##0\",\n",
    "            'Solar': \"#,##0\",\n",
    "            'Waste Gas': \"#,##0\",\n",
    "            'Wind': \"#,##0\"\n",
    "        },\n",
    "        \"columnWidth\": 20\n",
    "    }\n",
    "    chartOptions = {\n",
    "        \"subtype\":\"stacked\",\n",
    "        \"colors\": colorset,\n",
    "        \"titles\": {\n",
    "            \"chartTitle\": title,\n",
    "            \"xTitle\": xlabel,\n",
    "            \"yTitle\": ylabel\n",
    "        },\n",
    "        \"seriesOptions\": [{\"gap\":100} for x in excelData.columns],\n",
    "        \"xAxisOptions\": {\n",
    "            \"num_font\": {\"size\":14},\n",
    "        },\n",
    "        \"yAxisOptions\": {\n",
    "            \"num_font\": {\"size\":14},\n",
    "            \"num_format\": \"#,##0\",\n",
    "        },\n",
    "        \"legendOptions\":{\n",
    "            \"position\":\"bottom\",\n",
    "            \"font\":{\"size\":14}\n",
    "        },\n",
    "        \"sizeOptions\":{\n",
    "            \"x_scale\":1.5,\n",
    "            \"y_scale\":1.5\n",
    "        }\n",
    "    }\n",
    "    morpc.data_chart_to_excel(excelData, writer, chartType=\"column\", dataOptions=dataOptions, chartOptions=chartOptions)\n",
    "    writer.close()    \n",
    "    \n",
    "%matplotlib inline"
   ]
  },
  {
   "cell_type": "markdown",
   "id": "9b023d3a-1b56-41e2-b378-e1660b84e711",
   "metadata": {},
   "source": [
    "### Capacity"
   ]
  },
  {
   "cell_type": "code",
   "execution_count": null,
   "id": "c1f7b769-ce46-4290-b494-3a988e961850",
   "metadata": {},
   "outputs": [],
   "source": [
    "%matplotlib agg\n",
    "\n",
    "# Create a list to accumulate geographies for which a thumbnail is generated\n",
    "platformIncludeList = []\n",
    "\n",
    "# Iterate over each geography in data set\n",
    "for geoid in facilities[\"GEOIDFQ\"].unique():\n",
    "    # If the geography is not a MORPC member, skip it. The platform only features members.\n",
    "    if(not geoid in memberList):\n",
    "        continue\n",
    "    \n",
    "    # Extract the data for a single geography\n",
    "    temp = facilities.loc[facilities[\"GEOIDFQ\"] == geoid].copy()\n",
    "\n",
    "    if(temp.empty):\n",
    "        continue\n",
    "        \n",
    "    platformIncludeList.append(geoid)\n",
    "\n",
    "    # Generate a title string\n",
    "    geoName = temp.iloc[0][\"NAME\"]\n",
    "    title = \"Distributed Energy Resources Capacity by Year Opened - {}\".format(geoName)\n",
    "    xlabel = None\n",
    "    ylabel = \"Kilowatts (kW)\"\n",
    "    \n",
    "    # Drop the geography name and type\n",
    "    temp = temp.filter(items=[\"YEAR\",\"FUEL_TYPE\",\"CAPACITY\"], axis=\"columns\")\n",
    "    \n",
    "    # Make the variable names nicer looking\n",
    "    temp = temp.rename(columns={\n",
    "        \"YEAR\":\"Year\",\n",
    "        \"FUEL_TYPE\":\"Fuel type\",\n",
    "        \"CAPACITY\":\"Capacity\"\n",
    "    })\n",
    "    labels = temp[\"Fuel type\"].unique()\n",
    "    labels = [textwrap.fill(label, 15) for label in labels]\n",
    "\n",
    "    # Pivot to wide format\n",
    "    temp = temp.pivot(index=\"Year\", columns=\"Fuel type\").reset_index()\n",
    "    \n",
    "    # Create and annotate the plot\n",
    "    PLOTWIDTH = 8\n",
    "    fig,ax = plt.subplots(figsize=(PLOTWIDTH,PLOTWIDTH/16*9))\n",
    "\n",
    "    temp.plot.bar(ax=ax, x=\"Year\", y=\"Capacity\", stacked=True, color=colorset)\n",
    "    temp = facilities.loc[facilities[\"GEOIDFQ\"] == geoid].copy()\n",
    "    \n",
    "    ax.set_title(title, fontsize=14)\n",
    "    ax.set_xlabel(xlabel)\n",
    "    ax.set_ylabel(ylabel)\n",
    "    ax.set_yticks([round(tick,0) for tick in ax.get_yticks()])\n",
    "    legend = ax.legend(labels, loc='center left', bbox_to_anchor=(1, 0.5), labelspacing=1)\n",
    "    ax.grid(visible=True, color=\"lightgrey\")\n",
    "    ax.set_axisbelow(True)\n",
    "    \n",
    "    # Format the y-axis labels as integers with comma separators\n",
    "    ax.get_yaxis().set_major_formatter(matplotlib.ticker.FuncFormatter(lambda x, p: format(int(x), ',')))\n",
    "    \n",
    "    # Save the figure to disk as an SVG file\n",
    "    ax.figure.savefig(os.path.join(chartDir, \"capacity-{}.svg\".format(geoid)), bbox_extra_artists=(legend,), bbox_inches='tight')\n",
    "    \n",
    "    plt.close(ax.figure)\n",
    "\n",
    "    excelData = temp[[\"YEAR\",\"FUEL_TYPE\",\"CAPACITY\"]].pivot(index=\"YEAR\", columns=\"FUEL_TYPE\", values=\"CAPACITY\")\n",
    "    excelData = excelData.rename(columns={\n",
    "        \"CAPACITY\":\"Capacity\"\n",
    "    })\n",
    "    excelData.index.name = \"Open year\"\n",
    "    excelData.columns.name = None\n",
    "\n",
    "    writer = pd.ExcelWriter(os.path.join(chartDir, \"capacity-{}.xlsx\".format(geoid)), engine='xlsxwriter')\n",
    "    dataOptions = {\n",
    "        \"numberFormat\": {\n",
    "            'Open year': \"0\",\n",
    "            'Biofuel': \"#,##0.0\",\n",
    "            'Energy Storage': \"#,##0.0\",\n",
    "            'Natural Gas/Propane': \"#,##0.0\",\n",
    "            'Solar': \"#,##0.0\",\n",
    "            'Waste Gas': \"#,##0.0\",\n",
    "            'Wind': \"#,##0.0\"\n",
    "        },\n",
    "        \"columnWidth\": 20\n",
    "    }\n",
    "    chartOptions = {\n",
    "        \"subtype\":\"stacked\",\n",
    "        \"colors\": colorset,\n",
    "        \"titles\": {\n",
    "            \"chartTitle\": title,\n",
    "            \"xTitle\": xlabel,\n",
    "            \"yTitle\": ylabel\n",
    "        },\n",
    "        \"seriesOptions\": [{\"gap\":100} for x in excelData.columns],\n",
    "        \"xAxisOptions\": {\n",
    "            \"num_font\": {\"size\":14},\n",
    "        },\n",
    "        \"yAxisOptions\": {\n",
    "            \"num_font\": {\"size\":14},\n",
    "            \"num_format\": \"#,##0\",\n",
    "        },\n",
    "        \"legendOptions\":{\n",
    "            \"position\":\"bottom\",\n",
    "            \"font\":{\"size\":14}\n",
    "        },\n",
    "        \"sizeOptions\":{\n",
    "            \"x_scale\":1.5,\n",
    "            \"y_scale\":1.5\n",
    "        }\n",
    "    }\n",
    "    morpc.data_chart_to_excel(excelData, writer, chartType=\"column\", dataOptions=dataOptions, chartOptions=chartOptions)\n",
    "    writer.close()    \n",
    "    \n",
    "%matplotlib inline"
   ]
  },
  {
   "cell_type": "markdown",
   "id": "07b0555f-a99e-4297-8623-0aa3de7122df",
   "metadata": {},
   "source": [
    "## Generate Insights catalog content"
   ]
  },
  {
   "cell_type": "markdown",
   "id": "abea4018-3b07-4999-b98b-2edbe1e29238",
   "metadata": {},
   "source": [
    "The content in the Insights platform is controlled by a catalog spreadsheet. Each tile to be displayed in the platform must have a record in the catalog.  This section will create the records for the tiles that display the alternative fuel station data.  Eventually this function will be performed by a separate staging script."
   ]
  },
  {
   "cell_type": "markdown",
   "id": "75c5632a-9833-48ed-96d1-d9a35a4ad7ba",
   "metadata": {},
   "source": [
    "First specify the column names used in the catalog."
   ]
  },
  {
   "cell_type": "code",
   "execution_count": null,
   "id": "43882b7e-d411-4830-b4d2-7698fdd8c4f2",
   "metadata": {},
   "outputs": [],
   "source": [
    "columnNames=[\"TileID\",\"TilesetID\",\"GeographyType\",\"GeographyName\",\"Category\",\"Headline\",\"Commentary\",\"ThumbnailURL\",\"Contributor\",\"Vintage\",\"UpdateInterval\",\"ShareURL\",\"DataProductURL\",\"MoreInformationURL\"]"
   ]
  },
  {
   "cell_type": "markdown",
   "id": "32ecd541-9b63-492f-8450-3b4b120b199b",
   "metadata": {},
   "source": [
    "Create a new dataframe containing only the geographies for which thumbnail images were produced in the section above."
   ]
  },
  {
   "cell_type": "code",
   "execution_count": null,
   "id": "eacdf0ef-e819-450e-9ea1-b454bfc7b431",
   "metadata": {},
   "outputs": [],
   "source": [
    "catalog = facilities.loc[facilities[\"GEOIDFQ\"].isin(platformIncludeList)].copy()"
   ]
  },
  {
   "cell_type": "markdown",
   "id": "5126cea2-2720-420f-9091-ae6123235ddc",
   "metadata": {},
   "source": [
    "Extract only the metadata columns of interest and flatten the data to have only one record per geography. Rename the metadata fields to match the catalog fields."
   ]
  },
  {
   "cell_type": "code",
   "execution_count": null,
   "id": "de1a160b-3b36-4b38-8b7d-125bbb39ec7c",
   "metadata": {},
   "outputs": [],
   "source": [
    "catalog = catalog.filter(items=[\"GEOIDFQ\",\"NAME\",\"GEOTYPE\"], axis=\"columns\") \\\n",
    "    .groupby(\"GEOIDFQ\").first() \\\n",
    "    .reset_index() \\\n",
    "    .rename(columns={\"NAME\":\"GeographyName\",\"GEOTYPE\":\"GeographyType\"})"
   ]
  },
  {
   "cell_type": "markdown",
   "id": "4fe8086d-0802-499a-a1c9-c326896a19a3",
   "metadata": {},
   "source": [
    "Change the GeographyType values to match the schema of the catalog."
   ]
  },
  {
   "cell_type": "code",
   "execution_count": null,
   "id": "e34adc15-65c5-47ab-879a-d71e0d3d5b76",
   "metadata": {},
   "outputs": [],
   "source": [
    "catalog[\"GeographyType\"] = catalog[\"GeographyType\"].map({\n",
    "    \"REGION15\":\"Region\",\n",
    "    \"COUNTY\":\"County\",\n",
    "    \"COUNTY-TOWNSHIP-REMAINDER\":\"Community\",\n",
    "    \"PLACE\":\"Community\"\n",
    "})"
   ]
  },
  {
   "cell_type": "markdown",
   "id": "227a2d03-2f1e-413b-9bdb-a9bd2ff18c80",
   "metadata": {},
   "source": [
    "Populate some placeholder fields."
   ]
  },
  {
   "cell_type": "code",
   "execution_count": null,
   "id": "26cf5684-e5b4-4862-bc8c-80a354dc8545",
   "metadata": {},
   "outputs": [],
   "source": [
    "catalog[\"TileID\"] = None\n",
    "catalog[\"TilesetID\"] = \"TBD-Facilities\"\n",
    "catalog[\"Category\"] = None\n",
    "catalog[\"Headline\"] = \"TBD\"\n",
    "catalog[\"Commentary\"] = \"TBD\""
   ]
  },
  {
   "cell_type": "markdown",
   "id": "e6cf4729-9ad8-466f-b208-515bdbf0f612",
   "metadata": {},
   "source": [
    "Generate the URL for the thumbnail images. These will be hosted in GitHub and will be indexed by GEOIDFQ."
   ]
  },
  {
   "cell_type": "code",
   "execution_count": null,
   "id": "d5236da5-8d79-426a-bcd7-09cbcdc87402",
   "metadata": {},
   "outputs": [],
   "source": [
    "catalog[\"ThumbnailURL\"] = catalog[\"GEOIDFQ\"].apply(lambda geoid:\"https://raw.githubusercontent.com/morpc-insights/renewenergy-der/refs/heads/main/output_data/charts/facilities-{}.svg\".format(geoid))"
   ]
  },
  {
   "cell_type": "markdown",
   "id": "36ba2c86-62e7-4b72-966d-b79f09e72c30",
   "metadata": {},
   "source": [
    "Populate some other simple metadata.  Vintage in this case refers to the year that the content was published in Insights. This is to give readers an idea of how old it is.  UpdateInterval gives them an idea of when to expect the next version. ShareURL is a placeholder for now."
   ]
  },
  {
   "cell_type": "code",
   "execution_count": null,
   "id": "1f2a090b-60b6-4377-b6be-ad01394f326e",
   "metadata": {},
   "outputs": [],
   "source": [
    "catalog[\"Contributor\"] = \"Mid-Ohio Regional Planning Commission\"\n",
    "catalog[\"Vintage\"] = str(datetime.date.today().year)\n",
    "catalog[\"UpdateInterval\"] = \"annually\"\n",
    "catalog[\"ShareURL\"] = None"
   ]
  },
  {
   "cell_type": "markdown",
   "id": "4e976014-ac32-4869-986e-2481b7e9359c",
   "metadata": {},
   "source": [
    "Generate the data product URL.  This points to an ArcGIS Dashboard that accepts URL parameters.  GEOIDFQ is passed as a parameter to tell the app to load the data for a particular geography."
   ]
  },
  {
   "cell_type": "code",
   "execution_count": null,
   "id": "6a425d81-f5d9-4fb3-9649-91541a4ff773",
   "metadata": {},
   "outputs": [],
   "source": [
    "catalog[\"DataProductURL\"] = catalog[\"GEOIDFQ\"].apply(lambda geoid:\"https://www.arcgis.com/apps/dashboards/3f2b48c930294cfda824567333f001fd#geoid={}\".format(geoid))"
   ]
  },
  {
   "cell_type": "markdown",
   "id": "063149cc-624c-4e9b-8116-7e0cfd4fd07a",
   "metadata": {},
   "source": [
    "Generate the URLs that point to the extended commentary pages.  Default to a common page (population.pdf) hosted in GitHub.  Point to specific pages for the 15-county region and for each county."
   ]
  },
  {
   "cell_type": "code",
   "execution_count": null,
   "id": "c8199fc3-2fe8-4079-9c14-90a2280ed077",
   "metadata": {},
   "outputs": [],
   "source": [
    "catalog[\"MoreInformationURL\"] = \"https://raw.githubusercontent.com/morpc-insights/renewenergy-der/refs/heads/main/fact_sheets/renewenergy-der.pdf\""
   ]
  },
  {
   "cell_type": "markdown",
   "id": "6b61a857-dab2-49ba-8610-1e10715f69f5",
   "metadata": {},
   "source": [
    "Extract only the required columns."
   ]
  },
  {
   "cell_type": "code",
   "execution_count": null,
   "id": "834b3dc3-5da2-4d87-b5a1-0e224099328d",
   "metadata": {},
   "outputs": [],
   "source": [
    "catalog = catalog.filter(items=columnNames, axis=\"columns\")"
   ]
  },
  {
   "cell_type": "markdown",
   "id": "ac478240-bf5c-442f-90ad-f110f4046033",
   "metadata": {},
   "source": [
    "Inspect the listing."
   ]
  },
  {
   "cell_type": "code",
   "execution_count": null,
   "id": "173c04f6-0a80-477c-994e-c717608aa51e",
   "metadata": {},
   "outputs": [],
   "source": [
    "catalog.head()"
   ]
  },
  {
   "cell_type": "code",
   "execution_count": null,
   "id": "eda5e0f9-2e5b-4a8a-8c8e-4aab55a91b84",
   "metadata": {},
   "outputs": [],
   "source": [
    "temp = catalog.copy()"
   ]
  },
  {
   "cell_type": "code",
   "execution_count": null,
   "id": "2522deec-65a2-45a8-929a-6f95ef33eb1a",
   "metadata": {},
   "outputs": [],
   "source": [
    "temp[\"ThumbnailURL\"] = temp[\"ThumbnailURL\"].str.replace(\"facilities-\", \"capacity-\")"
   ]
  },
  {
   "cell_type": "code",
   "execution_count": null,
   "id": "1ceefeba-285f-46c4-bff0-8ceafe646164",
   "metadata": {},
   "outputs": [],
   "source": [
    "temp[\"TilesetID\"] = temp[\"TilesetID\"].str.replace(\"Facilities\", \"Capacity\")"
   ]
  },
  {
   "cell_type": "code",
   "execution_count": null,
   "id": "0605ce02-0f8c-4f7e-a381-8db28b588820",
   "metadata": {},
   "outputs": [],
   "source": [
    "catalog = pd.concat([catalog, temp], axis=\"index\")"
   ]
  },
  {
   "cell_type": "markdown",
   "id": "a9c3080e-e890-46dc-8e7e-31523f4d6d9d",
   "metadata": {},
   "source": [
    "Save the catalog to an Excel spreadsheet."
   ]
  },
  {
   "cell_type": "code",
   "execution_count": null,
   "id": "d1490183-185f-48c8-b7d2-497c0f265613",
   "metadata": {},
   "outputs": [],
   "source": [
    "catalog.to_excel(\"catalog.xlsx\", index=False)"
   ]
  },
  {
   "cell_type": "markdown",
   "id": "71d6a808-be92-4ef6-8ee7-f341d115e974",
   "metadata": {},
   "source": [
    "It is necessary to manually add these records to the master catalog or update the records already therein.  See the following file in GitHub:\n",
    "\n",
    "https://github.com/morpc/morpc-insights/blob/main/catalog/morpc_insights_catalog.xlsx\n"
   ]
  }
 ],
 "metadata": {
  "kernelspec": {
   "display_name": "Python 3 (ipykernel)",
   "language": "python",
   "name": "python3"
  },
  "language_info": {
   "codemirror_mode": {
    "name": "ipython",
    "version": 3
   },
   "file_extension": ".py",
   "mimetype": "text/x-python",
   "name": "python",
   "nbconvert_exporter": "python",
   "pygments_lexer": "ipython3",
   "version": "3.10.4"
  }
 },
 "nbformat": 4,
 "nbformat_minor": 5
}
