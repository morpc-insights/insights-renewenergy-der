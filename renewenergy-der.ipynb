{
 "cells": [
  {
   "cell_type": "markdown",
   "id": "5c699616-fd0b-4345-b204-a7eaee51fd95",
   "metadata": {},
   "source": [
    "# MORPC Insights - Distributed Energy Resources (DER)"
   ]
  },
  {
   "cell_type": "markdown",
   "id": "f266558b-c357-429c-b3ec-074e23751904",
   "metadata": {},
   "source": [
    "## Overview"
   ]
  },
  {
   "cell_type": "markdown",
   "id": "caffba84-d13c-412f-8992-c686048f1a68",
   "metadata": {},
   "source": [
    "The Public Utilities Commission of Ohio maintains a [database](https://maps.puco.ohio.gov/arcgis/rest/services/electric/Distributed_Energy_Resources/MapServer/0/) containing the locations and attributes of distributed energy resources (DER) facilities and an associated [dashboard](https://maps.puco.ohio.gov/portal/apps/dashboards/ef2586cbf54b42cd8f5af3cf5c5da296). The dashboard provides the following notes:\n",
    "  - A distributed energy resource (DER) is a source of electric power that is not directly connected to a bulk power system. DER includes both generators and energy storage technologies capable of exporting active power to the electric grid.\n",
    "  - Energy Storage Capacity is reflective of standalone energy storage systems, not hybrid systems where capacity is already reported/captured in the generating units.\n",
    "  - \"Other\" Fuel Types include Waste Gas, Biofuel, Diesel, Natural Gas/Propane, Coal, Cogeneration, and Hydro.\n",
    "  \n",
    "This notebook produces a tileset that includes a summary of DER facilities for the MORPC 15-county region and the counties and communities therein. This notebook is the final stage in a pipeline that fetches and standardizes the DER facility data (see [morpc-renewenergyfacilities-standardize](https://github.com/morpc/morpc-renewenergyfacilities-standardize)), and summarizes summarizes it by geography (see [morpc-renewenergyfacilities-summarize](https://github.com/morpc/morpc-renewenergyfacilities-summarize)).\n",
    "\n",
    "The process defined herein is identified as process ID #65 in the the [Master Document List](https://morpc1.sharepoint.com/:x:/s/GISteam/EfC4j3HhohZCrSZzxJdyt5cBFEqVD7zHick8ZW0INqgCYA?e=Zc2yWF). This process is primarily intended for use in workflow ID #96.  References to identifiers in the master document list will subsequently be denoted by a number in brackets, e.g. [65].\n",
    "\n",
    "This process is dependent on upstream processes.  See the \"Prerequisites\" section below."
   ]
  },
  {
   "cell_type": "markdown",
   "id": "f0bbb317-6d05-4695-bcda-6458e30750ff",
   "metadata": {},
   "source": [
    "## Prerequisites"
   ]
  },
  {
   "cell_type": "markdown",
   "id": "6171f392-1c85-4fd4-b9a2-e3cf3ce6d985",
   "metadata": {},
   "source": [
    "  1. Clone the [morpc-renewenergyfacilities-summarize](https://github.com/morpc/morpc-renewenergyfacilities-summarize) repository and ensure that the paths are correct in the \"Define inputs\" section below.\n",
    "  2. Execute the morpc-renewenergyfacilities-summarize workflow (including any upstream workflows as needed) to ensure that the outputs captured in the repository are up to date.\n",
    "  3. Clone the [morpc-common](https://github.com/morpc/morpc-common) repository and adjust the path to morpc-common/morpc.py in the \"Load required libraries\" section below (if necessary).\n",
    "  4. Clone the [morpc-geos-collect](https://github.com/morpc/morpc-geos-collect) repository and ensure that the paths are correct in the \"Define inputs\" section below.\n",
    "  5. Clone the [morpc-lookup](https://github.com/morpc/morpc-lookup) repository and ensure that the paths are correct in the \"Define inputs\" section below."
   ]
  },
  {
   "cell_type": "markdown",
   "id": "12f498db-624a-4612-98bc-4fb293545126",
   "metadata": {},
   "source": [
    "## Setup"
   ]
  },
  {
   "cell_type": "markdown",
   "id": "e78b2de3-e2a7-4a7f-8ac4-15b7ec9e1878",
   "metadata": {},
   "source": [
    "### Load required libraries"
   ]
  },
  {
   "cell_type": "code",
   "execution_count": 1,
   "id": "218f7cbb-4c18-4bb6-b5c9-67b13bbf20cb",
   "metadata": {},
   "outputs": [],
   "source": [
    "import pandas as pd\n",
    "import frictionless\n",
    "import math\n",
    "import os\n",
    "import sys\n",
    "import json\n",
    "import datetime\n",
    "import textwrap\n",
    "import matplotlib\n",
    "from matplotlib import pyplot as plt\n",
    "sys.path.append(os.path.normpath(\"../morpc-common\"))\n",
    "import morpc"
   ]
  },
  {
   "cell_type": "markdown",
   "id": "7dafa778-fe68-4ff2-845a-071e1953d178",
   "metadata": {},
   "source": [
    "### User-specified parameters"
   ]
  },
  {
   "cell_type": "markdown",
   "id": "14f271b9-6b36-4dc0-9d35-e8b66a56591c",
   "metadata": {},
   "source": [
    "Adjust these as needed."
   ]
  },
  {
   "cell_type": "code",
   "execution_count": 2,
   "id": "cda8a1e3-db9a-4d81-a3d4-146e8f66018c",
   "metadata": {},
   "outputs": [],
   "source": [
    "# YEAR_RANGE is a two-element list of integers that specifies the range of years for facility openings \n",
    "# to include in the output.  The first element is the beginning year in the range and the second element\n",
    "# is the final year.\n",
    "YEAR_RANGE = [2000, 2024]"
   ]
  },
  {
   "cell_type": "markdown",
   "id": "2d807186-9539-4286-b975-68d7afa999aa",
   "metadata": {},
   "source": [
    "### Static parameters"
   ]
  },
  {
   "cell_type": "markdown",
   "id": "9a2e00f3-6fc4-4857-90fd-1c3e06c1065f",
   "metadata": {},
   "source": [
    "Typically these should not be adjusted."
   ]
  },
  {
   "cell_type": "code",
   "execution_count": 3,
   "id": "1c95808b-a8b8-45e2-9653-7f177dbf7cf5",
   "metadata": {},
   "outputs": [
    {
     "name": "stdout",
     "output_type": "stream",
     "text": [
      "Input data will be archived in directory: input_data\n",
      "Output data will be stored in directory: output_data\n",
      "Charts will be stored in directory: output_data/charts\n"
     ]
    }
   ],
   "source": [
    "# A copy of all input data will be archived in the location specified for INPUT_DIR\n",
    "INPUT_DIR = os.path.normpath(\"./input_data\")\n",
    "print(\"Input data will be archived in directory: {}\".format(INPUT_DIR))\n",
    "\n",
    "# Output data produced by the script will stored in the location specified for OUTPUT_DIR\n",
    "OUTPUT_DIR = os.path.normpath(\"./output_data\")\n",
    "print(\"Output data will be stored in directory: {}\".format(OUTPUT_DIR))\n",
    "\n",
    "# Charts produced by the script as images and Excel files will be stored in a subdirectory\n",
    "# of OUTPUT_DIR with the name specified in CHART_DIRNAME\n",
    "CHART_DIRNAME = \"charts\"\n",
    "print(\"Charts will be stored in directory: {}\".format(os.path.join(OUTPUT_DIR, CHART_DIRNAME)))"
   ]
  },
  {
   "cell_type": "markdown",
   "id": "3e0f86cf-e578-43c5-809a-10502263c5c4",
   "metadata": {},
   "source": [
    "### Define inputs"
   ]
  },
  {
   "cell_type": "markdown",
   "id": "7778c336-3e52-4beb-848a-66eaa6eb221d",
   "metadata": {},
   "source": [
    "#### Create input data directory"
   ]
  },
  {
   "cell_type": "markdown",
   "id": "d6036e8e-8c0c-41bf-8f2a-4bd63ec21059",
   "metadata": {},
   "source": [
    "Create input data directory if it doesn't exist."
   ]
  },
  {
   "cell_type": "code",
   "execution_count": 4,
   "id": "50e4f010-ae38-416f-80a5-c5c0cf3e444e",
   "metadata": {},
   "outputs": [],
   "source": [
    "inputDir = os.path.normpath(INPUT_DIR)\n",
    "if not os.path.exists(inputDir):\n",
    "    os.makedirs(inputDir)"
   ]
  },
  {
   "cell_type": "markdown",
   "id": "88bb506d-be1a-4cee-9274-28fe61c80c01",
   "metadata": {},
   "source": [
    "#### Summarized DER facilities data [408]"
   ]
  },
  {
   "cell_type": "markdown",
   "id": "cdfd4b69-c85a-40d5-9c42-2cdcf80fd5d3",
   "metadata": {},
   "source": [
    "Table containing a summary of DER facilities and output capacity by geography by year. "
   ]
  },
  {
   "cell_type": "code",
   "execution_count": 5,
   "id": "fed15fa9-86db-4a47-88d3-6e73260c0128",
   "metadata": {},
   "outputs": [
    {
     "name": "stdout",
     "output_type": "stream",
     "text": [
      "Resource file: ../morpc-renewenergyfacilities-summarize/output_data/morpc-renewenergyfacilities-der-long.resource.yaml\n"
     ]
    }
   ],
   "source": [
    "DER_INPUT_TABLE_RESOURCE = os.path.normpath(\"../morpc-renewenergyfacilities-summarize/output_data/morpc-renewenergyfacilities-der-long.resource.yaml\")\n",
    "print(\"Resource file: {}\".format(DER_INPUT_TABLE_RESOURCE))"
   ]
  },
  {
   "cell_type": "markdown",
   "id": "12c9c103-eaef-4a34-b51d-b9680aaf68cc",
   "metadata": {},
   "source": [
    "#### Geography lookup table [375]"
   ]
  },
  {
   "cell_type": "markdown",
   "id": "ab6a02c8-cdcd-4818-a038-3abd50acc658",
   "metadata": {},
   "source": [
    "Lookup table providing attributes and identifiers for Central Ohio geographies."
   ]
  },
  {
   "cell_type": "code",
   "execution_count": 6,
   "id": "b72ed961-5dfe-43db-9bbd-ab328fa7c9c5",
   "metadata": {},
   "outputs": [
    {
     "name": "stdout",
     "output_type": "stream",
     "text": [
      "Resource file: ../morpc-geos-collect/output_data/morpc-geos-lookup.resource.yaml\n"
     ]
    }
   ],
   "source": [
    "GEOS_LOOKUP_TABLE_RESOURCE = os.path.normpath(\"../morpc-geos-collect/output_data/morpc-geos-lookup.resource.yaml\")\n",
    "print(\"Resource file: {}\".format(GEOS_LOOKUP_TABLE_RESOURCE))"
   ]
  },
  {
   "cell_type": "markdown",
   "id": "5d6c7a61-3941-47ee-983f-f2d06776df24",
   "metadata": {},
   "source": [
    "#### MORPC member list [122]"
   ]
  },
  {
   "cell_type": "markdown",
   "id": "12d26646-faee-479f-976e-98ba935e27de",
   "metadata": {},
   "source": [
    "List of Central Ohio cities, villages, townships, and counties including indications whether each is or is not a MORPC member."
   ]
  },
  {
   "cell_type": "code",
   "execution_count": 7,
   "id": "dfec2f2b-1333-4a86-968f-84da9df08ecf",
   "metadata": {},
   "outputs": [
    {
     "name": "stdout",
     "output_type": "stream",
     "text": [
      "Data: ../morpc-lookup/Member_List.xlsx, sheet 'Current Year Members'\n",
      "Schema: ../morpc-lookup/Member_List_schema.json\n"
     ]
    }
   ],
   "source": [
    "MEMBERS_DATA_PATH = \"../morpc-lookup/Member_List.xlsx\"\n",
    "MEMBERS_SHEET = \"Current Year Members\"\n",
    "MEMBERS_SCHEMA_PATH = \"../morpc-lookup/Member_List_schema.json\"\n",
    "print(\"Data: {}, sheet '{}'\".format(MEMBERS_DATA_PATH, MEMBERS_SHEET))\n",
    "print(\"Schema: {}\".format(MEMBERS_SCHEMA_PATH))"
   ]
  },
  {
   "cell_type": "markdown",
   "id": "ae74c606-606d-406e-bef1-ec740db1c0ed",
   "metadata": {
    "tags": []
   },
   "source": [
    "### Define outputs"
   ]
  },
  {
   "cell_type": "markdown",
   "id": "e99f094c-d946-4f72-8184-f5cea1cd18ea",
   "metadata": {
    "tags": []
   },
   "source": [
    "#### Create output data directory"
   ]
  },
  {
   "cell_type": "markdown",
   "id": "1ede1075-913c-4ec7-9f81-2b593d8dbea7",
   "metadata": {},
   "source": [
    "Create output data directory if it doesn't exist."
   ]
  },
  {
   "cell_type": "code",
   "execution_count": 8,
   "id": "6eb8522f-e434-4530-9f5f-4f3a9cf0ff5e",
   "metadata": {},
   "outputs": [],
   "source": [
    "outputDir = os.path.normpath(OUTPUT_DIR)\n",
    "if not os.path.exists(outputDir):\n",
    "    os.makedirs(outputDir)   "
   ]
  },
  {
   "cell_type": "markdown",
   "id": "de934cb7-81af-4f85-b3ac-4e439cc0433d",
   "metadata": {},
   "source": [
    "Create the subdirectory to contain the charts if it doesn't exist."
   ]
  },
  {
   "cell_type": "code",
   "execution_count": 9,
   "id": "ed0fd019-9624-47a0-8cf0-9f494057663c",
   "metadata": {},
   "outputs": [],
   "source": [
    "chartDir = os.path.join(outputDir, CHART_DIRNAME)\n",
    "if not os.path.exists(chartDir):\n",
    "    os.makedirs(chartDir)    "
   ]
  },
  {
   "cell_type": "markdown",
   "id": "2ea44deb-b239-4ae1-9040-244404a429b5",
   "metadata": {
    "tags": []
   },
   "source": [
    "#### DER facilities by geography by year [408]"
   ]
  },
  {
   "cell_type": "markdown",
   "id": "db8007bd-fde1-4932-b09f-b4ca860a6487",
   "metadata": {},
   "source": [
    "Long-form table of DER facilities and capacity by geography by year intended to feed an [ArcGIS Dashboard](https://www.arcgis.com/apps/dashboards/3f2b48c930294cfda824567333f001fd)."
   ]
  },
  {
   "cell_type": "code",
   "execution_count": 10,
   "id": "d0746090-6e45-40e4-a248-81b52879e4f1",
   "metadata": {},
   "outputs": [
    {
     "name": "stdout",
     "output_type": "stream",
     "text": [
      "Data: output_data/renewenergy-der-long.csv\n",
      "Schema: output_data/renewenergy-der-long.schema.yaml\n",
      "Resource file: output_data/renewenergy-der-long.resource.yaml\n"
     ]
    }
   ],
   "source": [
    "FACILITIES_TABLE_FILENAME = \"renewenergy-der-long.csv\"\n",
    "FACILITIES_TABLE_PATH = os.path.join(outputDir, FACILITIES_TABLE_FILENAME)\n",
    "FACILITIES_TABLE_SCHEMA_PATH = FACILITIES_TABLE_PATH.replace(\".csv\",\".schema.yaml\")\n",
    "FACILITIES_TABLE_RESOURCE_PATH = FACILITIES_TABLE_PATH.replace(\".csv\",\".resource.yaml\")\n",
    "print(\"Data: {}\".format(FACILITIES_TABLE_PATH))\n",
    "print(\"Schema: {}\".format(FACILITIES_TABLE_SCHEMA_PATH))\n",
    "print(\"Resource file: {}\".format(FACILITIES_TABLE_RESOURCE_PATH))"
   ]
  },
  {
   "cell_type": "markdown",
   "id": "acfb611a-e884-49ee-8431-adac7534438d",
   "metadata": {},
   "source": [
    "## Prepare input data"
   ]
  },
  {
   "cell_type": "markdown",
   "id": "e2ee9926-8ed4-4f8d-8a30-e2ce931b8fb8",
   "metadata": {},
   "source": [
    "### Load geography lookup table"
   ]
  },
  {
   "cell_type": "markdown",
   "id": "f5e4542b-1568-4c88-aef8-6dd18428869d",
   "metadata": {},
   "source": [
    "Load the data from the source location, creating an archival copy in the input directory defined above.  Validate the data against the resource file and the schema to ensure that it complies with the schema and has not been altered."
   ]
  },
  {
   "cell_type": "code",
   "execution_count": 11,
   "id": "ea238b49-e395-4837-9189-2c317e1b2381",
   "metadata": {
    "scrolled": true
   },
   "outputs": [
    {
     "name": "stdout",
     "output_type": "stream",
     "text": [
      "morpc.load_frictionless_data | INFO | Loading Frictionless Resource file at location ../morpc-geos-collect/output_data/morpc-geos-lookup.resource.yaml\n",
      "morpc.load_frictionless_data | INFO | Copying data, resource file, and schema to directory input_data\n",
      "morpc.load_frictionless_data | INFO | --> Data file: input_data/morpc-geos-lookup.csv\n",
      "morpc.load_frictionless_data | INFO | --> Resource file: input_data/morpc-geos-lookup.resource.yaml\n",
      "morpc.load_frictionless_data | INFO | --> Schema file: input_data/morpc-geos-lookup.schema.yaml\n",
      "morpc.load_frictionless_data | INFO | Validating resource including data and schema.\n",
      "morpc.frictionless_validate_resource | INFO | Validating resource on disk (including data and schema). This may take some time.\n",
      "morpc.frictionless_validate_resource | INFO | Resource is valid\n",
      "morpc.load_frictionless_data | INFO | Loading data.\n",
      "frictionless_cast_field_types | INFO | Casting field GEOIDFQ as type string.\n",
      "frictionless_cast_field_types | INFO | Casting field GEOID as type string.\n",
      "frictionless_cast_field_types | INFO | Casting field SUMLEVEL as type string.\n",
      "frictionless_cast_field_types | INFO | Casting field GEOTYPE as type string.\n",
      "frictionless_cast_field_types | INFO | Casting field NAME as type string.\n",
      "frictionless_cast_field_types | INFO | Casting field SOURCE as type string.\n",
      "frictionless_cast_field_types | INFO | Casting field STATEFP as type string.\n",
      "frictionless_cast_field_types | INFO | Casting field COUNTYFP as type string.\n",
      "frictionless_cast_field_types | INFO | Casting field COUSUBFP as type string.\n",
      "frictionless_cast_field_types | INFO | Casting field PLACEFP as type string.\n",
      "frictionless_cast_field_types | INFO | Casting field TRACTCE as type string.\n",
      "frictionless_cast_field_types | INFO | Casting field CLASSFP as type string.\n",
      "frictionless_cast_field_types | INFO | Casting field MUNITYPE as type string.\n",
      "frictionless_cast_field_types | INFO | Casting field PLACECOMBO as type string.\n"
     ]
    }
   ],
   "source": [
    "(geosRaw, geosRawResource, geosRawSchema) = morpc.frictionless_load_data(\n",
    "    GEOS_LOOKUP_TABLE_RESOURCE, \n",
    "    validate=True, \n",
    "    archiveDir=inputDir\n",
    ")"
   ]
  },
  {
   "cell_type": "markdown",
   "id": "439c97c0-a9ab-4d6e-936a-6ffdd4bf66df",
   "metadata": {},
   "source": [
    "Inspect the data."
   ]
  },
  {
   "cell_type": "code",
   "execution_count": 12,
   "id": "b75205b3-fbbe-4e9b-ae5f-2967b577aeec",
   "metadata": {},
   "outputs": [
    {
     "data": {
      "text/html": [
       "<div>\n",
       "<style scoped>\n",
       "    .dataframe tbody tr th:only-of-type {\n",
       "        vertical-align: middle;\n",
       "    }\n",
       "\n",
       "    .dataframe tbody tr th {\n",
       "        vertical-align: top;\n",
       "    }\n",
       "\n",
       "    .dataframe thead th {\n",
       "        text-align: right;\n",
       "    }\n",
       "</style>\n",
       "<table border=\"1\" class=\"dataframe\">\n",
       "  <thead>\n",
       "    <tr style=\"text-align: right;\">\n",
       "      <th></th>\n",
       "      <th>GEOIDFQ</th>\n",
       "      <th>GEOID</th>\n",
       "      <th>SUMLEVEL</th>\n",
       "      <th>GEOTYPE</th>\n",
       "      <th>NAME</th>\n",
       "      <th>SOURCE</th>\n",
       "      <th>STATEFP</th>\n",
       "      <th>COUNTYFP</th>\n",
       "      <th>COUSUBFP</th>\n",
       "      <th>PLACEFP</th>\n",
       "      <th>TRACTCE</th>\n",
       "      <th>CLASSFP</th>\n",
       "      <th>MUNITYPE</th>\n",
       "      <th>PLACECOMBO</th>\n",
       "    </tr>\n",
       "  </thead>\n",
       "  <tbody>\n",
       "    <tr>\n",
       "      <th>0</th>\n",
       "      <td>0500000US39041</td>\n",
       "      <td>39041</td>\n",
       "      <td>050</td>\n",
       "      <td>COUNTY</td>\n",
       "      <td>Delaware</td>\n",
       "      <td>CENSUS</td>\n",
       "      <td>39</td>\n",
       "      <td>041</td>\n",
       "      <td>&lt;NA&gt;</td>\n",
       "      <td>&lt;NA&gt;</td>\n",
       "      <td>&lt;NA&gt;</td>\n",
       "      <td>H1</td>\n",
       "      <td>&lt;NA&gt;</td>\n",
       "      <td>&lt;NA&gt;</td>\n",
       "    </tr>\n",
       "    <tr>\n",
       "      <th>1</th>\n",
       "      <td>0500000US39045</td>\n",
       "      <td>39045</td>\n",
       "      <td>050</td>\n",
       "      <td>COUNTY</td>\n",
       "      <td>Fairfield</td>\n",
       "      <td>CENSUS</td>\n",
       "      <td>39</td>\n",
       "      <td>045</td>\n",
       "      <td>&lt;NA&gt;</td>\n",
       "      <td>&lt;NA&gt;</td>\n",
       "      <td>&lt;NA&gt;</td>\n",
       "      <td>H1</td>\n",
       "      <td>&lt;NA&gt;</td>\n",
       "      <td>&lt;NA&gt;</td>\n",
       "    </tr>\n",
       "    <tr>\n",
       "      <th>2</th>\n",
       "      <td>0500000US39047</td>\n",
       "      <td>39047</td>\n",
       "      <td>050</td>\n",
       "      <td>COUNTY</td>\n",
       "      <td>Fayette</td>\n",
       "      <td>CENSUS</td>\n",
       "      <td>39</td>\n",
       "      <td>047</td>\n",
       "      <td>&lt;NA&gt;</td>\n",
       "      <td>&lt;NA&gt;</td>\n",
       "      <td>&lt;NA&gt;</td>\n",
       "      <td>H1</td>\n",
       "      <td>&lt;NA&gt;</td>\n",
       "      <td>&lt;NA&gt;</td>\n",
       "    </tr>\n",
       "    <tr>\n",
       "      <th>3</th>\n",
       "      <td>0500000US39049</td>\n",
       "      <td>39049</td>\n",
       "      <td>050</td>\n",
       "      <td>COUNTY</td>\n",
       "      <td>Franklin</td>\n",
       "      <td>CENSUS</td>\n",
       "      <td>39</td>\n",
       "      <td>049</td>\n",
       "      <td>&lt;NA&gt;</td>\n",
       "      <td>&lt;NA&gt;</td>\n",
       "      <td>&lt;NA&gt;</td>\n",
       "      <td>H1</td>\n",
       "      <td>&lt;NA&gt;</td>\n",
       "      <td>&lt;NA&gt;</td>\n",
       "    </tr>\n",
       "    <tr>\n",
       "      <th>4</th>\n",
       "      <td>0500000US39073</td>\n",
       "      <td>39073</td>\n",
       "      <td>050</td>\n",
       "      <td>COUNTY</td>\n",
       "      <td>Hocking</td>\n",
       "      <td>CENSUS</td>\n",
       "      <td>39</td>\n",
       "      <td>073</td>\n",
       "      <td>&lt;NA&gt;</td>\n",
       "      <td>&lt;NA&gt;</td>\n",
       "      <td>&lt;NA&gt;</td>\n",
       "      <td>H1</td>\n",
       "      <td>&lt;NA&gt;</td>\n",
       "      <td>&lt;NA&gt;</td>\n",
       "    </tr>\n",
       "  </tbody>\n",
       "</table>\n",
       "</div>"
      ],
      "text/plain": [
       "          GEOIDFQ  GEOID SUMLEVEL GEOTYPE       NAME  SOURCE STATEFP COUNTYFP  \\\n",
       "0  0500000US39041  39041      050  COUNTY   Delaware  CENSUS      39      041   \n",
       "1  0500000US39045  39045      050  COUNTY  Fairfield  CENSUS      39      045   \n",
       "2  0500000US39047  39047      050  COUNTY    Fayette  CENSUS      39      047   \n",
       "3  0500000US39049  39049      050  COUNTY   Franklin  CENSUS      39      049   \n",
       "4  0500000US39073  39073      050  COUNTY    Hocking  CENSUS      39      073   \n",
       "\n",
       "  COUSUBFP PLACEFP TRACTCE CLASSFP MUNITYPE PLACECOMBO  \n",
       "0     <NA>    <NA>    <NA>      H1     <NA>       <NA>  \n",
       "1     <NA>    <NA>    <NA>      H1     <NA>       <NA>  \n",
       "2     <NA>    <NA>    <NA>      H1     <NA>       <NA>  \n",
       "3     <NA>    <NA>    <NA>      H1     <NA>       <NA>  \n",
       "4     <NA>    <NA>    <NA>      H1     <NA>       <NA>  "
      ]
     },
     "execution_count": 12,
     "metadata": {},
     "output_type": "execute_result"
    }
   ],
   "source": [
    "geosRaw.head()"
   ]
  },
  {
   "cell_type": "markdown",
   "id": "74f0f9ad-cae5-4ac5-81a9-b59d63c29ded",
   "metadata": {},
   "source": [
    "Create a working copy."
   ]
  },
  {
   "cell_type": "code",
   "execution_count": 13,
   "id": "7ceef01b-05a6-4af6-859d-7c8a1896e5aa",
   "metadata": {},
   "outputs": [],
   "source": [
    "geos = geosRaw.copy()"
   ]
  },
  {
   "cell_type": "markdown",
   "id": "1fdab135-8283-49f2-b8b3-94f6b7c3b43c",
   "metadata": {},
   "source": [
    "### Load summarized DER facility data from upstream workflows"
   ]
  },
  {
   "cell_type": "markdown",
   "id": "09a3c61d-0c22-4322-86b3-004dd452abac",
   "metadata": {},
   "source": [
    "Load the data from the source location, creating an archival copy in the input directory defined above.  Validate the data against the resource file and the schema to ensure that it complies with the schema and has not been altered."
   ]
  },
  {
   "cell_type": "code",
   "execution_count": 14,
   "id": "2d947ec7-5338-47ef-8a66-418db1472a88",
   "metadata": {},
   "outputs": [
    {
     "name": "stdout",
     "output_type": "stream",
     "text": [
      "morpc.load_frictionless_data | INFO | Loading Frictionless Resource file at location ../morpc-renewenergyfacilities-summarize/output_data/morpc-renewenergyfacilities-der-long.resource.yaml\n",
      "morpc.load_frictionless_data | INFO | Copying data, resource file, and schema to directory input_data\n",
      "morpc.load_frictionless_data | INFO | --> Data file: input_data/morpc-renewenergyfacilities-der-long.csv\n",
      "morpc.load_frictionless_data | INFO | --> Resource file: input_data/morpc-renewenergyfacilities-der-long.resource.yaml\n",
      "morpc.load_frictionless_data | INFO | --> Schema file: input_data/morpc-renewenergyfacilities-der-long.schema.yaml\n",
      "morpc.load_frictionless_data | INFO | Validating resource including data and schema.\n",
      "morpc.frictionless_validate_resource | INFO | Validating resource on disk (including data and schema). This may take some time.\n",
      "morpc.frictionless_validate_resource | INFO | Resource is valid\n",
      "morpc.load_frictionless_data | INFO | Loading data.\n",
      "frictionless_cast_field_types | INFO | Casting field NAME as type string.\n",
      "frictionless_cast_field_types | INFO | Casting field GEOIDFQ as type string.\n",
      "frictionless_cast_field_types | INFO | Casting field SUMLEVEL as type string.\n",
      "frictionless_cast_field_types | INFO | Casting field YEAR as type integer.\n",
      "frictionless_cast_field_types | INFO | Casting field METRIC as type string.\n",
      "frictionless_cast_field_types | INFO | Casting field FUEL_TYPE as type string.\n",
      "frictionless_cast_field_types | INFO | Casting field VALUE as type number.\n"
     ]
    }
   ],
   "source": [
    "(facilitiesRaw, facilitiesRawResource, facilitiesRawSchema) = morpc.frictionless_load_data(DER_INPUT_TABLE_RESOURCE, validate=True, archiveDir=inputDir)"
   ]
  },
  {
   "cell_type": "markdown",
   "id": "52957945-73a4-4ddd-8577-46ced3c30efc",
   "metadata": {},
   "source": [
    "Inspect the data."
   ]
  },
  {
   "cell_type": "code",
   "execution_count": 15,
   "id": "c308f782-ac11-4073-97bc-6b3b02706754",
   "metadata": {},
   "outputs": [
    {
     "data": {
      "text/html": [
       "<div>\n",
       "<style scoped>\n",
       "    .dataframe tbody tr th:only-of-type {\n",
       "        vertical-align: middle;\n",
       "    }\n",
       "\n",
       "    .dataframe tbody tr th {\n",
       "        vertical-align: top;\n",
       "    }\n",
       "\n",
       "    .dataframe thead th {\n",
       "        text-align: right;\n",
       "    }\n",
       "</style>\n",
       "<table border=\"1\" class=\"dataframe\">\n",
       "  <thead>\n",
       "    <tr style=\"text-align: right;\">\n",
       "      <th></th>\n",
       "      <th>NAME</th>\n",
       "      <th>GEOIDFQ</th>\n",
       "      <th>SUMLEVEL</th>\n",
       "      <th>YEAR</th>\n",
       "      <th>METRIC</th>\n",
       "      <th>FUEL_TYPE</th>\n",
       "      <th>VALUE</th>\n",
       "    </tr>\n",
       "  </thead>\n",
       "  <tbody>\n",
       "    <tr>\n",
       "      <th>0</th>\n",
       "      <td>15-County Region</td>\n",
       "      <td>M010000US001</td>\n",
       "      <td>M01</td>\n",
       "      <td>2000</td>\n",
       "      <td>Facilities</td>\n",
       "      <td>Biofuel</td>\n",
       "      <td>0.0</td>\n",
       "    </tr>\n",
       "    <tr>\n",
       "      <th>1</th>\n",
       "      <td>15-County Region</td>\n",
       "      <td>M010000US001</td>\n",
       "      <td>M01</td>\n",
       "      <td>2001</td>\n",
       "      <td>Facilities</td>\n",
       "      <td>Biofuel</td>\n",
       "      <td>0.0</td>\n",
       "    </tr>\n",
       "    <tr>\n",
       "      <th>2</th>\n",
       "      <td>15-County Region</td>\n",
       "      <td>M010000US001</td>\n",
       "      <td>M01</td>\n",
       "      <td>2002</td>\n",
       "      <td>Facilities</td>\n",
       "      <td>Biofuel</td>\n",
       "      <td>0.0</td>\n",
       "    </tr>\n",
       "    <tr>\n",
       "      <th>3</th>\n",
       "      <td>15-County Region</td>\n",
       "      <td>M010000US001</td>\n",
       "      <td>M01</td>\n",
       "      <td>2003</td>\n",
       "      <td>Facilities</td>\n",
       "      <td>Biofuel</td>\n",
       "      <td>0.0</td>\n",
       "    </tr>\n",
       "    <tr>\n",
       "      <th>4</th>\n",
       "      <td>15-County Region</td>\n",
       "      <td>M010000US001</td>\n",
       "      <td>M01</td>\n",
       "      <td>2004</td>\n",
       "      <td>Facilities</td>\n",
       "      <td>Biofuel</td>\n",
       "      <td>0.0</td>\n",
       "    </tr>\n",
       "  </tbody>\n",
       "</table>\n",
       "</div>"
      ],
      "text/plain": [
       "               NAME       GEOIDFQ SUMLEVEL  YEAR      METRIC FUEL_TYPE  VALUE\n",
       "0  15-County Region  M010000US001      M01  2000  Facilities   Biofuel    0.0\n",
       "1  15-County Region  M010000US001      M01  2001  Facilities   Biofuel    0.0\n",
       "2  15-County Region  M010000US001      M01  2002  Facilities   Biofuel    0.0\n",
       "3  15-County Region  M010000US001      M01  2003  Facilities   Biofuel    0.0\n",
       "4  15-County Region  M010000US001      M01  2004  Facilities   Biofuel    0.0"
      ]
     },
     "execution_count": 15,
     "metadata": {},
     "output_type": "execute_result"
    }
   ],
   "source": [
    "facilitiesRaw.head()"
   ]
  },
  {
   "cell_type": "markdown",
   "id": "83ec89fa-1122-4943-9aeb-3fe48a7af2a2",
   "metadata": {},
   "source": [
    "Create a working copy."
   ]
  },
  {
   "cell_type": "code",
   "execution_count": 16,
   "id": "2a51d591-3977-4fae-85bf-7d04ac550515",
   "metadata": {},
   "outputs": [],
   "source": [
    "facilities = facilitiesRaw.copy()"
   ]
  },
  {
   "cell_type": "markdown",
   "id": "c29961dd-87c3-4a39-96d2-a7cd61255966",
   "metadata": {},
   "source": [
    "### MORPC member list"
   ]
  },
  {
   "cell_type": "markdown",
   "id": "97f8eda7-d676-42be-9450-b1c449ea01d2",
   "metadata": {},
   "source": [
    "The output data will include all communities for whom data has not been suppressed, however we will only show data for MORPC members in the platform."
   ]
  },
  {
   "cell_type": "markdown",
   "id": "e4e2bc51-5445-42fb-8e46-52190793196d",
   "metadata": {},
   "source": [
    "Load the member table."
   ]
  },
  {
   "cell_type": "code",
   "execution_count": 17,
   "id": "61d720c7-80fe-484d-9f53-2622b1077bbe",
   "metadata": {},
   "outputs": [
    {
     "data": {
      "text/html": [
       "<div>\n",
       "<style scoped>\n",
       "    .dataframe tbody tr th:only-of-type {\n",
       "        vertical-align: middle;\n",
       "    }\n",
       "\n",
       "    .dataframe tbody tr th {\n",
       "        vertical-align: top;\n",
       "    }\n",
       "\n",
       "    .dataframe thead th {\n",
       "        text-align: right;\n",
       "    }\n",
       "</style>\n",
       "<table border=\"1\" class=\"dataframe\">\n",
       "  <thead>\n",
       "    <tr style=\"text-align: right;\">\n",
       "      <th></th>\n",
       "      <th>PLACECOMBO</th>\n",
       "      <th>PlaceLink</th>\n",
       "      <th>Local Member</th>\n",
       "      <th>County Member</th>\n",
       "      <th>Contains Any Member</th>\n",
       "      <th>MPO Member</th>\n",
       "      <th>MPO County</th>\n",
       "      <th>CORPO County</th>\n",
       "      <th>Model Area</th>\n",
       "      <th>FCPH Service Area</th>\n",
       "      <th>County</th>\n",
       "      <th>Place Name</th>\n",
       "      <th>GovType</th>\n",
       "      <th>GEOID</th>\n",
       "    </tr>\n",
       "  </thead>\n",
       "  <tbody>\n",
       "    <tr>\n",
       "      <th>0</th>\n",
       "      <td>DELAWARE_ASHLEY_VILLAGE</td>\n",
       "      <td>4.0</td>\n",
       "      <td>0.0</td>\n",
       "      <td>1</td>\n",
       "      <td>True</td>\n",
       "      <td>1</td>\n",
       "      <td>1</td>\n",
       "      <td>0</td>\n",
       "      <td>1</td>\n",
       "      <td>0</td>\n",
       "      <td>Delaware</td>\n",
       "      <td>Ashley</td>\n",
       "      <td>Village</td>\n",
       "      <td>1550000US3902582041</td>\n",
       "    </tr>\n",
       "    <tr>\n",
       "      <th>1</th>\n",
       "      <td>DELAWARE_BERKSHIRE_TOWNSHIP</td>\n",
       "      <td>113.0</td>\n",
       "      <td>0.0</td>\n",
       "      <td>1</td>\n",
       "      <td>True</td>\n",
       "      <td>1</td>\n",
       "      <td>1</td>\n",
       "      <td>0</td>\n",
       "      <td>1</td>\n",
       "      <td>0</td>\n",
       "      <td>Delaware</td>\n",
       "      <td>Berkshire</td>\n",
       "      <td>Township</td>\n",
       "      <td>0700000US390410577499999</td>\n",
       "    </tr>\n",
       "    <tr>\n",
       "      <th>2</th>\n",
       "      <td>DELAWARE_BERLIN_TOWNSHIP</td>\n",
       "      <td>114.0</td>\n",
       "      <td>0.0</td>\n",
       "      <td>1</td>\n",
       "      <td>True</td>\n",
       "      <td>1</td>\n",
       "      <td>1</td>\n",
       "      <td>0</td>\n",
       "      <td>1</td>\n",
       "      <td>0</td>\n",
       "      <td>Delaware</td>\n",
       "      <td>Berlin</td>\n",
       "      <td>Township</td>\n",
       "      <td>0700000US390410578899999</td>\n",
       "    </tr>\n",
       "    <tr>\n",
       "      <th>3</th>\n",
       "      <td>DELAWARE_BROWN_TOWNSHIP</td>\n",
       "      <td>115.0</td>\n",
       "      <td>0.0</td>\n",
       "      <td>1</td>\n",
       "      <td>True</td>\n",
       "      <td>1</td>\n",
       "      <td>1</td>\n",
       "      <td>0</td>\n",
       "      <td>1</td>\n",
       "      <td>0</td>\n",
       "      <td>Delaware</td>\n",
       "      <td>Brown</td>\n",
       "      <td>Township</td>\n",
       "      <td>0700000US390410942899999</td>\n",
       "    </tr>\n",
       "    <tr>\n",
       "      <th>4</th>\n",
       "      <td>DELAWARE_COLUMBUS_CITY</td>\n",
       "      <td>22.0</td>\n",
       "      <td>1.0</td>\n",
       "      <td>1</td>\n",
       "      <td>True</td>\n",
       "      <td>1</td>\n",
       "      <td>1</td>\n",
       "      <td>0</td>\n",
       "      <td>1</td>\n",
       "      <td>0</td>\n",
       "      <td>Delaware</td>\n",
       "      <td>Columbus</td>\n",
       "      <td>City</td>\n",
       "      <td>1550000US3918000041</td>\n",
       "    </tr>\n",
       "  </tbody>\n",
       "</table>\n",
       "</div>"
      ],
      "text/plain": [
       "                    PLACECOMBO  PlaceLink  Local Member  County Member  \\\n",
       "0      DELAWARE_ASHLEY_VILLAGE        4.0           0.0              1   \n",
       "1  DELAWARE_BERKSHIRE_TOWNSHIP      113.0           0.0              1   \n",
       "2     DELAWARE_BERLIN_TOWNSHIP      114.0           0.0              1   \n",
       "3      DELAWARE_BROWN_TOWNSHIP      115.0           0.0              1   \n",
       "4       DELAWARE_COLUMBUS_CITY       22.0           1.0              1   \n",
       "\n",
       "   Contains Any Member  MPO Member  MPO County  CORPO County  Model Area  \\\n",
       "0                 True           1           1             0           1   \n",
       "1                 True           1           1             0           1   \n",
       "2                 True           1           1             0           1   \n",
       "3                 True           1           1             0           1   \n",
       "4                 True           1           1             0           1   \n",
       "\n",
       "   FCPH Service Area    County Place Name   GovType                     GEOID  \n",
       "0                  0  Delaware     Ashley   Village       1550000US3902582041  \n",
       "1                  0  Delaware  Berkshire  Township  0700000US390410577499999  \n",
       "2                  0  Delaware     Berlin  Township  0700000US390410578899999  \n",
       "3                  0  Delaware      Brown  Township  0700000US390410942899999  \n",
       "4                  0  Delaware   Columbus      City       1550000US3918000041  "
      ]
     },
     "execution_count": 17,
     "metadata": {},
     "output_type": "execute_result"
    }
   ],
   "source": [
    "membersRaw = pd.read_excel(MEMBERS_DATA_PATH, sheet_name=MEMBERS_SHEET)\n",
    "membersRaw.head()"
   ]
  },
  {
   "cell_type": "markdown",
   "id": "19c51f5c-c82d-453c-8363-0be3e7927514",
   "metadata": {},
   "source": [
    "Load the schema."
   ]
  },
  {
   "cell_type": "code",
   "execution_count": 18,
   "id": "7add8fc6-0436-4018-b364-19e4231a9a5d",
   "metadata": {},
   "outputs": [],
   "source": [
    "membersSchema = morpc.load_avro_schema(MEMBERS_SCHEMA_PATH)"
   ]
  },
  {
   "cell_type": "markdown",
   "id": "6101ed3a-7c54-453f-871f-3288acab01d4",
   "metadata": {},
   "source": [
    "Verify that the fields are all the expected types."
   ]
  },
  {
   "cell_type": "code",
   "execution_count": 19,
   "id": "8b0906af-639d-4ab6-8cda-c61c272705f5",
   "metadata": {
    "scrolled": true
   },
   "outputs": [
    {
     "name": "stdout",
     "output_type": "stream",
     "text": [
      "Casting field PLACECOMBO as type string.\n",
      "Casting field PlaceLink as type string.\n",
      "Casting field Local Member as type boolean.\n",
      "Casting field County Member as type boolean.\n",
      "Casting field Contains Any Member as type boolean.\n",
      "Casting field MPO Member as type boolean.\n",
      "Casting field MPO County as type boolean.\n",
      "Casting field CORPO County as type boolean.\n",
      "Casting field Model Area as type boolean.\n",
      "Casting field FCPH Service Area as type boolean.\n",
      "Casting field County as type string.\n",
      "Casting field Place Name as type string.\n",
      "Casting field GovType as type string.\n",
      "Casting field GEOID as type string.\n"
     ]
    }
   ],
   "source": [
    "members = morpc.cast_field_types(membersRaw, membersSchema)"
   ]
  },
  {
   "cell_type": "markdown",
   "id": "ec8c65de-ba5c-4262-a719-1f79f923d890",
   "metadata": {},
   "source": [
    "Extract only the communities which are themselves a member."
   ]
  },
  {
   "cell_type": "code",
   "execution_count": 20,
   "id": "79f91ad9-586f-4f2f-90d6-dc567cc3f180",
   "metadata": {},
   "outputs": [],
   "source": [
    "members = members.loc[members[\"Local Member\"] == True].copy()"
   ]
  },
  {
   "cell_type": "markdown",
   "id": "b94ae797-3271-43f1-89dc-2a5bbabf755a",
   "metadata": {},
   "source": [
    "The records in the member table are all county parts.  For places we need to subsitute the GEOID for the full place rather than the county part."
   ]
  },
  {
   "cell_type": "code",
   "execution_count": 21,
   "id": "b600a1af-b8bc-488d-a309-9e3f41982926",
   "metadata": {},
   "outputs": [],
   "source": [
    "members[\"PLACEFP\"] = members[\"GEOID\"].apply(lambda x:x[11:16])\n",
    "members[\"COUSUBFP\"] = members[\"GEOID\"].apply(lambda x:x[14:19])\n",
    "members[\"COUNTYID\"] = members[\"County\"].map(morpc.CONST_COUNTY_NAME_TO_ID)\n",
    "members[\"GEOIDFQ\"] = None\n",
    "temp = members.loc[members[\"GovType\"] == \"Township\"].copy()\n",
    "temp[\"GEOIDFQ\"] = temp[\"GEOID\"]\n",
    "members.update(temp)\n",
    "temp = members.loc[members[\"GovType\"] != \"Township\"].copy()\n",
    "temp[\"GEOIDFQ\"] = \"1600000US39\" + temp[\"PLACEFP\"]\n",
    "members.update(temp)"
   ]
  },
  {
   "cell_type": "markdown",
   "id": "e2243082-c666-46eb-a91c-a451472900d8",
   "metadata": {},
   "source": [
    "Now extract just the list of member GEOIDs.  The steps above likely produced duplicate records for places, so extract only the unique GEOIDs."
   ]
  },
  {
   "cell_type": "code",
   "execution_count": 22,
   "id": "5db1cd30-bd83-4dd1-ab8a-36477357b737",
   "metadata": {},
   "outputs": [],
   "source": [
    "memberList = list(members[\"GEOIDFQ\"].unique())"
   ]
  },
  {
   "cell_type": "markdown",
   "id": "dc9e6836-0493-4606-b79c-f9faf58e7b98",
   "metadata": {},
   "source": [
    "We also need to append the list of counties.  We will include data for all counties regardless of membership status."
   ]
  },
  {
   "cell_type": "code",
   "execution_count": 23,
   "id": "6c636723-7395-43f0-8006-b9734f4c5b3a",
   "metadata": {},
   "outputs": [],
   "source": [
    "memberList += [\"0500000US{}\".format(morpc.CONST_COUNTY_NAME_TO_ID[x]) for x in morpc.CONST_REGIONS['REGION15']]"
   ]
  },
  {
   "cell_type": "markdown",
   "id": "5ef3c2cd-9e90-4b6b-9e78-82f2a19c073b",
   "metadata": {},
   "source": [
    "Finally we need to append the ID for the MORPC region."
   ]
  },
  {
   "cell_type": "code",
   "execution_count": 24,
   "id": "63b6e70a-457f-4cbf-bbce-7d8865300d3c",
   "metadata": {},
   "outputs": [],
   "source": [
    "memberList.append(\"M010000US001\")"
   ]
  },
  {
   "cell_type": "markdown",
   "id": "0c7bced1-052e-402d-85f4-609304af24d2",
   "metadata": {},
   "source": [
    "## Transform data to format required by Insights platform"
   ]
  },
  {
   "cell_type": "markdown",
   "id": "343aab48-a69e-4519-880f-ebdcabca76e5",
   "metadata": {},
   "source": [
    "### Extract data for specified range of years"
   ]
  },
  {
   "cell_type": "markdown",
   "id": "fc7dd779-b673-4c15-a15a-2186428de816",
   "metadata": {},
   "source": [
    "Extract facilities which opened in the year range specified in the \"User-specified parameters\" section."
   ]
  },
  {
   "cell_type": "code",
   "execution_count": 25,
   "id": "e74b89ff-174d-4d2e-843a-59ed32f0b9c3",
   "metadata": {},
   "outputs": [],
   "source": [
    "facilities = facilities.loc[facilities[\"YEAR\"].isin(range(YEAR_RANGE[0], YEAR_RANGE[1]+1))].copy()"
   ]
  },
  {
   "cell_type": "markdown",
   "id": "86bb7c3d-8cee-42c1-913b-8a40bb1fb2d0",
   "metadata": {},
   "source": [
    "### Standardize geography names and identifiers"
   ]
  },
  {
   "cell_type": "markdown",
   "id": "719edb92-592d-4df3-aa49-83ea2b592e56",
   "metadata": {},
   "source": [
    "Assign a human-readable geography type for each geography based on its SUMLEVEL code."
   ]
  },
  {
   "cell_type": "code",
   "execution_count": 26,
   "id": "750f5824-ba46-4545-8572-538d42599121",
   "metadata": {},
   "outputs": [],
   "source": [
    "facilities[\"GEOTYPE\"] = facilities[\"SUMLEVEL\"].map(morpc.HIERARCHY_STRING_LOOKUP)"
   ]
  },
  {
   "cell_type": "markdown",
   "id": "767a8e1b-02cd-484a-8abb-30c98595dacf",
   "metadata": {},
   "source": [
    "Drop the geography names that were included in the facilities data and replace them with the standard names found in MORPC's geography lookup page. Also add the county FIPS code for the county that contains the geography.  Note that the FIPS code will be null for geographies that span multiple counties."
   ]
  },
  {
   "cell_type": "code",
   "execution_count": 27,
   "id": "aa7a4421-ff52-4ccd-9854-d9eebd01bd24",
   "metadata": {},
   "outputs": [],
   "source": [
    "facilities = facilities.drop(columns=\"NAME\").merge(geos[[\"GEOIDFQ\",\"COUNTYFP\",\"NAME\"]], on=\"GEOIDFQ\")"
   ]
  },
  {
   "cell_type": "markdown",
   "id": "76465396-dda3-4e8e-9c00-9fd72bb9e1ca",
   "metadata": {},
   "source": [
    "Convert the county FIPS code to a complete county GEOID by prepending the Ohio state FIPS code (\"39\")."
   ]
  },
  {
   "cell_type": "code",
   "execution_count": 28,
   "id": "5e4a40bd-2e5c-4a12-b4ca-95168bcdcb5c",
   "metadata": {},
   "outputs": [],
   "source": [
    "facilities[\"COUNTYFP\"] = \"39\" + facilities[\"COUNTYFP\"]"
   ]
  },
  {
   "cell_type": "markdown",
   "id": "c8d7e10d-360a-4c57-84ad-0a3c50ea0d1c",
   "metadata": {},
   "source": [
    "Create a field for the county name and look up the county name using the county GEOID."
   ]
  },
  {
   "cell_type": "code",
   "execution_count": 29,
   "id": "404f38d0-8b1d-41f9-84c8-21c98901067f",
   "metadata": {},
   "outputs": [],
   "source": [
    "facilities[\"COUNTY\"] = facilities[\"COUNTYFP\"].map(morpc.CONST_COUNTY_ID_TO_NAME)"
   ]
  },
  {
   "cell_type": "markdown",
   "id": "d2af8424-c549-4bec-ab79-b2ab7f5a5bd0",
   "metadata": {},
   "source": [
    "For records representing the non-incorporated portions of townships (SUMLEVEL 070), append the word \"Township\" to the name followed by the name of the county that contains it in parentheses.  This is necessary because township names are sometimes reused in multiple counties. "
   ]
  },
  {
   "cell_type": "code",
   "execution_count": 30,
   "id": "15a91312-3cdd-4fc8-babf-d796fd04f8dc",
   "metadata": {},
   "outputs": [],
   "source": [
    "temp = facilities.loc[facilities[\"SUMLEVEL\"] == \"070\"].copy()\n",
    "temp[\"NAME\"] = temp[\"NAME\"] + \" Township (\" + temp[\"COUNTY\"] + \")\"\n",
    "facilities.update(temp, overwrite=True, errors=\"ignore\")"
   ]
  },
  {
   "cell_type": "markdown",
   "id": "18546f0b-c18f-49e1-8728-6d0d3da02ab8",
   "metadata": {},
   "source": [
    "For records representing whole counties (SUMLEVEL 050), append the word \"County\" to the name.  This is necessary because sometimes incorporated places or townships have the same names as counties (e.g. Delaware City and Delaware County)."
   ]
  },
  {
   "cell_type": "code",
   "execution_count": 31,
   "id": "e280eddb-b257-45c9-b7e4-344105961be6",
   "metadata": {},
   "outputs": [],
   "source": [
    "temp = facilities.loc[facilities[\"SUMLEVEL\"] == \"050\"].copy()\n",
    "temp[\"NAME\"] = temp[\"NAME\"] + \" County\"\n",
    "facilities.update(temp, overwrite=True, errors=\"ignore\")"
   ]
  },
  {
   "cell_type": "markdown",
   "id": "04cd37ee-1716-479e-b017-9ca9b1500520",
   "metadata": {},
   "source": [
    "### Pivot the data to semi-wide form"
   ]
  },
  {
   "cell_type": "markdown",
   "id": "51efeb0b-dbdf-479b-b1b2-69b94d416da1",
   "metadata": {},
   "source": [
    "Extract only the fields we require."
   ]
  },
  {
   "cell_type": "code",
   "execution_count": 32,
   "id": "16372f85-88ac-4cd8-ba4e-345077aeaec6",
   "metadata": {},
   "outputs": [],
   "source": [
    "facilities = facilities.filter(items=[\"GEOIDFQ\",\"NAME\",\"GEOTYPE\",\"YEAR\",\"METRIC\",\"FUEL_TYPE\",\"VALUE\"], axis=\"columns\")"
   ]
  },
  {
   "cell_type": "markdown",
   "id": "8dae72eb-113f-4216-90c2-af45a427efef",
   "metadata": {},
   "source": [
    "Pivot the data to wide format such that each record represents the generating capacity and number of facilities using a particular fuel type that came online in a particular geography and year."
   ]
  },
  {
   "cell_type": "code",
   "execution_count": 33,
   "id": "4d5850e9-330e-435e-a6c0-72e0d996c00c",
   "metadata": {},
   "outputs": [],
   "source": [
    "facilities = facilities.pivot(index=[\"GEOIDFQ\",\"NAME\",\"GEOTYPE\",\"YEAR\",\"FUEL_TYPE\"], columns=\"METRIC\", values=\"VALUE\").reset_index()\n",
    "facilities.columns.name = None"
   ]
  },
  {
   "cell_type": "markdown",
   "id": "e3559912-3615-4812-845c-70fcc0e01e7a",
   "metadata": {},
   "source": [
    "### Change the units of generating capacity from kilowatts to watts"
   ]
  },
  {
   "cell_type": "markdown",
   "id": "967bb5cc-f630-4e62-9bf0-7503dcf5da43",
   "metadata": {},
   "source": [
    "The generating capacity is currently expressed in kilowatts.  This save some storage space and makes the data easier to parse by eye, but it leads to confusing scaling of charts in the Insights platform. To make the charts clearer, we'll convert the capacity values to watts and then represent them in the charts using common suffixes, i.e. 10k watts or 1M watts."
   ]
  },
  {
   "cell_type": "code",
   "execution_count": 34,
   "id": "cecd342b-69af-4cc0-87f5-c8a7c86de0a8",
   "metadata": {},
   "outputs": [],
   "source": [
    "facilities[\"Capacity\"] = facilities[\"Capacity\"] * 1000"
   ]
  },
  {
   "cell_type": "markdown",
   "id": "aebbdbd7-770d-4c73-a876-c2dc2d004110",
   "metadata": {},
   "source": [
    "### Reformat the data to comply with the output schema"
   ]
  },
  {
   "cell_type": "markdown",
   "id": "40853b5c-6edf-4325-8c02-6f80215a8396",
   "metadata": {},
   "source": [
    "Load the schema for the output data."
   ]
  },
  {
   "cell_type": "code",
   "execution_count": 35,
   "id": "453aebad-6195-4e52-b32e-dec8eea356f1",
   "metadata": {},
   "outputs": [
    {
     "data": {
      "text/plain": [
       "{'fields': [{'name': 'GEOIDFQ',\n",
       "             'type': 'string',\n",
       "             'description': 'Unique identifier for the geography as issued by '\n",
       "                            'MORPC.  These are identical to fully-qualified '\n",
       "                            'Census-issued GEOIDs for Census geographies.'},\n",
       "            {'name': 'NAME',\n",
       "             'type': 'string',\n",
       "             'description': 'Name of the geography.'},\n",
       "            {'name': 'GEOTYPE',\n",
       "             'type': 'string',\n",
       "             'description': 'Human readable string with describes the summary '\n",
       "                            'level (geography type) for which the GEOID '\n",
       "                            'applies.  The combination of GEOTYPE and GEOID '\n",
       "                            'uniquely identify the geography for the record.'},\n",
       "            {'name': 'YEAR',\n",
       "             'type': 'integer',\n",
       "             'description': 'Four-digit year in which the Distributed Energy '\n",
       "                            'Resource facility was registered.'},\n",
       "            {'name': 'FUEL_TYPE',\n",
       "             'type': 'string',\n",
       "             'description': 'Type of energy consumed by the facility.'},\n",
       "            {'name': 'FACILITIES',\n",
       "             'type': 'integer',\n",
       "             'description': 'Number of facilities that were registered in the '\n",
       "                            'indicated geography and year.'},\n",
       "            {'name': 'CAPACITY',\n",
       "             'type': 'number',\n",
       "             'description': 'Generating capacity of the combined facilities in '\n",
       "                            'kilowatts (kW).'}],\n",
       " 'missingValues': [''],\n",
       " 'primaryKey': ['GEOIDFQ', 'YEAR', 'FUEL_TYPE']}"
      ]
     },
     "execution_count": 35,
     "metadata": {},
     "output_type": "execute_result"
    }
   ],
   "source": [
    "facilitiesSchema = morpc.frictionless_load_schema(FACILITIES_TABLE_SCHEMA_PATH)\n",
    "facilitiesSchema"
   ]
  },
  {
   "cell_type": "markdown",
   "id": "375f6e43-528c-4e79-84fe-ce476bc30136",
   "metadata": {},
   "source": [
    "Rename the variables to match the schema."
   ]
  },
  {
   "cell_type": "code",
   "execution_count": 36,
   "id": "b7e31767-7f18-4d9a-8b98-d27cc1d00b45",
   "metadata": {},
   "outputs": [],
   "source": [
    "facilities = facilities.rename(columns={\n",
    "        \"Capacity\":\"CAPACITY\",\n",
    "        \"Facilities\":\"FACILITIES\"\n",
    "})"
   ]
  },
  {
   "cell_type": "markdown",
   "id": "2b9274e4-52e4-400a-8d54-e3da755c9fc9",
   "metadata": {},
   "source": [
    "Re-cast the variables to the types specified in the schema."
   ]
  },
  {
   "cell_type": "code",
   "execution_count": 37,
   "id": "3e507aea-11c4-424f-a7c0-0982a7d12dbc",
   "metadata": {},
   "outputs": [
    {
     "name": "stdout",
     "output_type": "stream",
     "text": [
      "frictionless_cast_field_types | INFO | Casting field GEOIDFQ as type string.\n",
      "frictionless_cast_field_types | INFO | Casting field NAME as type string.\n",
      "frictionless_cast_field_types | INFO | Casting field GEOTYPE as type string.\n",
      "frictionless_cast_field_types | INFO | Casting field YEAR as type integer.\n",
      "frictionless_cast_field_types | INFO | Casting field FUEL_TYPE as type string.\n",
      "frictionless_cast_field_types | INFO | Casting field FACILITIES as type integer.\n",
      "frictionless_cast_field_types | INFO | Casting field CAPACITY as type number.\n"
     ]
    }
   ],
   "source": [
    "facilities = morpc.cast_field_types(facilities, facilitiesSchema)"
   ]
  },
  {
   "cell_type": "markdown",
   "id": "078d2ed4-6c6d-4c39-92f1-7423e2c4f18f",
   "metadata": {},
   "source": [
    "Extract only the variables required by the schema."
   ]
  },
  {
   "cell_type": "code",
   "execution_count": 38,
   "id": "d196525e-673c-42a9-8efb-a0f4b7756821",
   "metadata": {},
   "outputs": [],
   "source": [
    "facilities = facilities.filter(items=facilitiesSchema.field_names, axis=\"columns\")"
   ]
  },
  {
   "cell_type": "markdown",
   "id": "a05db675-1e00-4758-8d3a-cdd483982010",
   "metadata": {},
   "source": [
    "Sort the data by geography type, then geography name, then county, then year, then fuel type."
   ]
  },
  {
   "cell_type": "code",
   "execution_count": 39,
   "id": "b1897ef5-9c06-4f04-84f4-e31d9c3ea2fb",
   "metadata": {},
   "outputs": [],
   "source": [
    "facilities = facilities.sort_values(by=[\"GEOTYPE\",\"NAME\",\"YEAR\",\"FUEL_TYPE\"])"
   ]
  },
  {
   "cell_type": "markdown",
   "id": "467147d6-fc32-46c3-876c-fb8e93437c52",
   "metadata": {},
   "source": [
    "Inspect the data."
   ]
  },
  {
   "cell_type": "code",
   "execution_count": 40,
   "id": "15ce2285-f8fc-4215-9a91-e57c8721f631",
   "metadata": {},
   "outputs": [
    {
     "data": {
      "text/html": [
       "<div>\n",
       "<style scoped>\n",
       "    .dataframe tbody tr th:only-of-type {\n",
       "        vertical-align: middle;\n",
       "    }\n",
       "\n",
       "    .dataframe tbody tr th {\n",
       "        vertical-align: top;\n",
       "    }\n",
       "\n",
       "    .dataframe thead th {\n",
       "        text-align: right;\n",
       "    }\n",
       "</style>\n",
       "<table border=\"1\" class=\"dataframe\">\n",
       "  <thead>\n",
       "    <tr style=\"text-align: right;\">\n",
       "      <th></th>\n",
       "      <th>GEOIDFQ</th>\n",
       "      <th>NAME</th>\n",
       "      <th>GEOTYPE</th>\n",
       "      <th>YEAR</th>\n",
       "      <th>FUEL_TYPE</th>\n",
       "      <th>FACILITIES</th>\n",
       "      <th>CAPACITY</th>\n",
       "    </tr>\n",
       "  </thead>\n",
       "  <tbody>\n",
       "    <tr>\n",
       "      <th>0</th>\n",
       "      <td>0500000US39041</td>\n",
       "      <td>Delaware County</td>\n",
       "      <td>COUNTY</td>\n",
       "      <td>2000</td>\n",
       "      <td>Biofuel</td>\n",
       "      <td>0</td>\n",
       "      <td>0.0</td>\n",
       "    </tr>\n",
       "    <tr>\n",
       "      <th>1</th>\n",
       "      <td>0500000US39041</td>\n",
       "      <td>Delaware County</td>\n",
       "      <td>COUNTY</td>\n",
       "      <td>2000</td>\n",
       "      <td>Energy Storage</td>\n",
       "      <td>0</td>\n",
       "      <td>0.0</td>\n",
       "    </tr>\n",
       "    <tr>\n",
       "      <th>2</th>\n",
       "      <td>0500000US39041</td>\n",
       "      <td>Delaware County</td>\n",
       "      <td>COUNTY</td>\n",
       "      <td>2000</td>\n",
       "      <td>Natural Gas/Propane</td>\n",
       "      <td>0</td>\n",
       "      <td>0.0</td>\n",
       "    </tr>\n",
       "    <tr>\n",
       "      <th>3</th>\n",
       "      <td>0500000US39041</td>\n",
       "      <td>Delaware County</td>\n",
       "      <td>COUNTY</td>\n",
       "      <td>2000</td>\n",
       "      <td>Solar</td>\n",
       "      <td>0</td>\n",
       "      <td>0.0</td>\n",
       "    </tr>\n",
       "    <tr>\n",
       "      <th>4</th>\n",
       "      <td>0500000US39041</td>\n",
       "      <td>Delaware County</td>\n",
       "      <td>COUNTY</td>\n",
       "      <td>2000</td>\n",
       "      <td>Waste Gas</td>\n",
       "      <td>0</td>\n",
       "      <td>0.0</td>\n",
       "    </tr>\n",
       "  </tbody>\n",
       "</table>\n",
       "</div>"
      ],
      "text/plain": [
       "          GEOIDFQ             NAME GEOTYPE  YEAR            FUEL_TYPE  \\\n",
       "0  0500000US39041  Delaware County  COUNTY  2000              Biofuel   \n",
       "1  0500000US39041  Delaware County  COUNTY  2000       Energy Storage   \n",
       "2  0500000US39041  Delaware County  COUNTY  2000  Natural Gas/Propane   \n",
       "3  0500000US39041  Delaware County  COUNTY  2000                Solar   \n",
       "4  0500000US39041  Delaware County  COUNTY  2000            Waste Gas   \n",
       "\n",
       "   FACILITIES  CAPACITY  \n",
       "0           0       0.0  \n",
       "1           0       0.0  \n",
       "2           0       0.0  \n",
       "3           0       0.0  \n",
       "4           0       0.0  "
      ]
     },
     "execution_count": 40,
     "metadata": {},
     "output_type": "execute_result"
    }
   ],
   "source": [
    "facilities.head()"
   ]
  },
  {
   "cell_type": "markdown",
   "id": "b845876e-aee4-4410-a205-c43379000d4e",
   "metadata": {},
   "source": [
    "## Export data"
   ]
  },
  {
   "cell_type": "markdown",
   "id": "b0dda931-175d-45be-8766-ea9f241ac893",
   "metadata": {},
   "source": [
    "Export the data to a CSV file."
   ]
  },
  {
   "cell_type": "code",
   "execution_count": 41,
   "id": "82acae8d-4415-45e2-97e8-ece0ab62d669",
   "metadata": {},
   "outputs": [],
   "source": [
    "facilities.to_csv(FACILITIES_TABLE_PATH, index=False)"
   ]
  },
  {
   "cell_type": "markdown",
   "id": "5958e6a6-1ed1-4f30-9f0d-e1584a7ca0c2",
   "metadata": {},
   "source": [
    "## Create resource file for exported data"
   ]
  },
  {
   "cell_type": "markdown",
   "id": "4cd5138d-2a7d-4be4-a3ab-aa977cee490d",
   "metadata": {},
   "source": [
    "Create a [Frictionless Resource file](https://specs.frictionlessdata.io/tabular-data-resource/) for the exported data. The resource file associates the schema with the CSV file and captures key metadata about the CSV file including the filesize (bytes) and MD5 checksum (hash).  This facilities validation and integrity checking of the CSV file.  The CSV file is automatically validated after the resource file is created."
   ]
  },
  {
   "cell_type": "code",
   "execution_count": 42,
   "id": "6a8c0cfb-5fae-447a-8d79-3ef8414eadd4",
   "metadata": {
    "scrolled": true
   },
   "outputs": [
    {
     "name": "stdout",
     "output_type": "stream",
     "text": [
      "morpc.frictionless_create_resource | INFO | Format not specified. Using format derived from data file extension: csv\n",
      "morpc.frictionless_create_resource | INFO | Schema path not specified. Using path derived from data file path: renewenergy-der-long.schema.yaml\n",
      "morpc.frictionless_create_resource | INFO | Writing Frictionless Resource file to output_data/renewenergy-der-long.resource.yaml\n",
      "morpc.frictionless_create_resource | INFO | Validating resource on disk.\n",
      "morpc.frictionless_validate_resource | INFO | Validating resource on disk (including data and schema). This may take some time.\n",
      "morpc.frictionless_validate_resource | INFO | Resource is valid\n"
     ]
    },
    {
     "data": {
      "text/plain": [
       "{'name': 'renewenergy_der',\n",
       " 'type': 'table',\n",
       " 'title': 'MORPC Insights | Distributed Energy Resources Facilities by Year',\n",
       " 'description': 'Count and generation capacity of Central Ohio Distributed '\n",
       "                'Energy Resources facilites which opened in each year '\n",
       "                'according to data maintained by the Public Utilities '\n",
       "                'Commission of Central Ohio.',\n",
       " 'profile': 'data-resource',\n",
       " 'path': 'renewenergy-der-long.csv',\n",
       " 'scheme': 'file',\n",
       " 'format': 'csv',\n",
       " 'mediatype': 'text/csv',\n",
       " 'hash': '421c5d72c703ec867877e1ba279f8003',\n",
       " 'bytes': 3855236,\n",
       " 'schema': 'renewenergy-der-long.schema.yaml'}"
      ]
     },
     "execution_count": 42,
     "metadata": {},
     "output_type": "execute_result"
    }
   ],
   "source": [
    "facilitiesResource = morpc.frictionless_create_resource(FACILITIES_TABLE_FILENAME, \n",
    "    resourcePath=FACILITIES_TABLE_RESOURCE_PATH,\n",
    "    title=\"MORPC Insights | Distributed Energy Resources Facilities by Year\", \n",
    "    name=\"renewenergy_der\", \n",
    "    description=\"Count and generation capacity of Central Ohio Distributed Energy Resources facilites which opened in each year according to data maintained by the Public Utilities Commission of Central Ohio.\",\n",
    "    writeResource=True,\n",
    "    validate=True\n",
    ")\n",
    "facilitiesResource"
   ]
  },
  {
   "cell_type": "markdown",
   "id": "f9168648-3b4f-48b8-8e06-06f6b3b4ce49",
   "metadata": {},
   "source": [
    "## Generate static charts"
   ]
  },
  {
   "cell_type": "markdown",
   "id": "76d6d2e2-5f00-4286-9cd9-1c20322928c2",
   "metadata": {},
   "source": [
    "This section will generate static charts in SVG (scalable vector graphics) and Excel format.  The SVG charts will be displayed on the tiles in the Insights platform.  Both the SVG charts and the Excel charts will be made available via GitHub for general purpose usage."
   ]
  },
  {
   "cell_type": "markdown",
   "id": "658d55bb-2f12-4fd9-8299-54f60635b08b",
   "metadata": {},
   "source": [
    "### Prepare to create charts"
   ]
  },
  {
   "cell_type": "markdown",
   "id": "c9f81772-68b2-4ad9-a432-4308ce0242a8",
   "metadata": {},
   "source": [
    "First delete any existing contents in the chart directory. This ensures that we are not left with any stale content in the event that no new chart is produced for a geography during this run."
   ]
  },
  {
   "cell_type": "code",
   "execution_count": 112,
   "id": "44d354a1-1fab-4fac-af54-fa42fe3e702e",
   "metadata": {},
   "outputs": [],
   "source": [
    "for f in os.scandir(chartDir):\n",
    "    os.remove(f)"
   ]
  },
  {
   "cell_type": "markdown",
   "id": "dbb2896f-25ab-4916-a1ff-2afb28d3d77f",
   "metadata": {},
   "source": [
    "Load a standard color set for the chart elements."
   ]
  },
  {
   "cell_type": "code",
   "execution_count": 44,
   "id": "13650e55-8157-473c-ba3f-8526cc3b58bb",
   "metadata": {},
   "outputs": [],
   "source": [
    "colorset = json.loads(json.dumps(morpc.CONST_COLOR_CYCLES[\"matplotlib\"]))"
   ]
  },
  {
   "cell_type": "markdown",
   "id": "c53b7111-c1a4-4d9e-9ba8-3f63e769bb88",
   "metadata": {},
   "source": [
    "### Create charts of number of facilities coming online by year"
   ]
  },
  {
   "cell_type": "code",
   "execution_count": 113,
   "id": "035cfd7b-d7ee-4131-9329-e6d3d46c7b74",
   "metadata": {
    "tags": []
   },
   "outputs": [],
   "source": [
    "%matplotlib agg  \n",
    "# The preceeding line disables display of matplotlib charts in the notebook\n",
    "\n",
    "# Create a list to accumulate geographies for which a thumbnail is generated\n",
    "platformIncludeList = []\n",
    "\n",
    "# Iterate over each geography in data set\n",
    "for geoid in facilities[\"GEOIDFQ\"].unique():\n",
    "    # If the geography is not a MORPC member, skip it. The platform only features members.\n",
    "    if(not geoid in memberList):\n",
    "        continue\n",
    "    \n",
    "    # Extract the data for a single geography.  If the resulting dataframe is empty, this\n",
    "    # means there are no records for that geography.  In that case, skip this geography\n",
    "    # and restart the loop with the next geography.\n",
    "    temp = facilities.loc[facilities[\"GEOIDFQ\"] == geoid].copy()\n",
    "    if(temp.empty):\n",
    "        continue\n",
    "    \n",
    "    # Add the geography to the list to be included in the platform\n",
    "    platformIncludeList.append(geoid)\n",
    "\n",
    "    # Generate chart title which includes the geography name\n",
    "    geoName = temp.iloc[0][\"NAME\"]\n",
    "    title = \"Distributed Energy Resources Facilities by Year Opened - {}\".format(geoName)\n",
    "    \n",
    "    # Define the x-axis and y-axis labels. Both axes are intuitive thanks to the chart title so\n",
    "    # no labels are needed\n",
    "    xlabel = None\n",
    "    ylabel = None\n",
    "    \n",
    "    # Drop the geography name and type, which are not needed in the chart\n",
    "    temp = temp.filter(items=[\"YEAR\",\"FUEL_TYPE\",\"FACILITIES\"], axis=\"columns\")\n",
    "    \n",
    "    # Make the variable names nicer looking\n",
    "    temp = temp.rename(columns={\n",
    "        \"YEAR\":\"Open year\",\n",
    "        \"FUEL_TYPE\":\"Fuel type\",\n",
    "        \"FACILITIES\":\"Facilities\"\n",
    "    })\n",
    "    \n",
    "    # Pivot to wide format\n",
    "    temp = temp.pivot(index=\"Open year\", columns=\"Fuel type\", values=\"Facilities\")\n",
    "    temp.columns.name = None\n",
    "    \n",
    "    ## Create and annotate the plot\n",
    "    # Specify a width of 8 inches and an aspect ratio of 16:9\n",
    "    PLOTWIDTH = 8\n",
    "    fig,ax = plt.subplots(figsize=(PLOTWIDTH,PLOTWIDTH/16*9))\n",
    "\n",
    "    # Create a stacked bar chart with years on the x-axis and number of facilities \n",
    "    # on the y-axis\n",
    "    temp.plot.bar(ax=ax, stacked=True, color=colorset)\n",
    "\n",
    "    # Apply the title and axis labels specified above to the chart\n",
    "    ax.set_title(title, fontsize=14)\n",
    "    ax.set_xlabel(xlabel)\n",
    "    ax.set_ylabel(ylabel)\n",
    "\n",
    "    # Create the legend. Wrap the legend labels to 15 characters to keep the legend compact\n",
    "    # Place the legend to the right of the chart.\n",
    "    handles, labels = ax.get_legend_handles_labels()\n",
    "    labels = [textwrap.fill(label, 15) for label in labels]\n",
    "    legend = ax.legend(handles[::-1], labels[::-1], loc='center left', bbox_to_anchor=(1, 0.5), labelspacing=1)\n",
    "    \n",
    "    # Add gridlines to the chart and ensure that they are drawn beneath the bars\n",
    "    ax.grid(visible=True, color=\"lightgrey\")\n",
    "    ax.set_axisbelow(True)\n",
    "\n",
    "    # Tell matplotlib to use only integer multiples for the y-axis ticks.  Otherwise we end up with repeated\n",
    "    # tick labels when data values are small.\n",
    "    ax.get_yaxis().set_major_locator(matplotlib.ticker.MaxNLocator(nbins=\"auto\", steps=[1, 2, 5, 10]))\n",
    "\n",
    "    ax.set_yticks(sorted(list(set([int(x) for x in ax.get_yticks()]))))\n",
    "    \n",
    "    # Format the y-axis labels as integers with comma separators\n",
    "    ax.get_yaxis().set_major_formatter(matplotlib.ticker.FuncFormatter(lambda x, p: format(int(x), ',')))\n",
    "    \n",
    "    # Format the y-axis labels using engineering notation (k, M)\n",
    "    #ax.get_yaxis().set_major_formatter(matplotlib.ticker.EngFormatter())\n",
    "    \n",
    "    # Save the figure to disk as an SVG file\n",
    "    ax.figure.savefig(os.path.join(chartDir, \"facilities-{0}-{1}.svg\".format(geoName.replace(\" \",\"\").replace(\"(\",\"\").replace(\")\",\"\"), geoid)), bbox_extra_artists=(legend,), bbox_inches='tight')\n",
    "\n",
    "    # Destroy the matplotlib chart in memory.\n",
    "    plt.close(ax.figure)\n",
    "\n",
    "    # Create a blank Excel document to hold the data table and chart\n",
    "    writer = pd.ExcelWriter(os.path.join(chartDir, \"facilities-{0}-{1}.xlsx\".format(geoName.replace(\" \",\"\").replace(\"(\",\"\").replace(\")\",\"\"), geoid)), engine='xlsxwriter')\n",
    "    \n",
    "    # Configure the presentation of the data table, as required by morpc.data_chart_to_excel()\n",
    "    dataOptions = {\n",
    "        \"numberFormat\": {\n",
    "            'Open year': \"0\",\n",
    "            'Biofuel': \"#,##0\",\n",
    "            'Energy Storage': \"#,##0\",\n",
    "            'Natural Gas/Propane': \"#,##0\",\n",
    "            'Solar': \"#,##0\",\n",
    "            'Waste Gas': \"#,##0\",\n",
    "            'Wind': \"#,##0\"\n",
    "        },\n",
    "        \"columnWidth\": 20\n",
    "    }\n",
    "\n",
    "    # Configure the presentation of the chart, as required by morpc.data_chart_to_excel()\n",
    "    chartOptions = {\n",
    "        \"subtype\":\"stacked\",\n",
    "        \"colors\": colorset,\n",
    "        \"titles\": {\n",
    "            \"chartTitle\": title,\n",
    "            \"xTitle\": xlabel,\n",
    "            \"yTitle\": ylabel\n",
    "        },\n",
    "        \"seriesOptions\": [{\"gap\":100} for x in temp.columns],\n",
    "        \"xAxisOptions\": {\n",
    "            \"num_font\": {\"size\":14},\n",
    "        },\n",
    "        \"yAxisOptions\": {\n",
    "            \"num_font\": {\"size\":14},\n",
    "            \"num_format\": \"#,##0\",\n",
    "        },\n",
    "        \"legendOptions\":{\n",
    "            \"position\":\"bottom\",\n",
    "            \"font\":{\"size\":14}\n",
    "        },\n",
    "        \"sizeOptions\":{\n",
    "            \"x_scale\":1.5,\n",
    "            \"y_scale\":1.5\n",
    "        }\n",
    "    }\n",
    "\n",
    "    # Add the data table and chart to the Excel document\n",
    "    morpc.data_chart_to_excel(temp, writer, chartType=\"column\", dataOptions=dataOptions, chartOptions=chartOptions)\n",
    "\n",
    "    # Close the Excel document\n",
    "    writer.close()    \n",
    "\n",
    "# Reenable display of matplotlib charts in the notebook\n",
    "%matplotlib inline"
   ]
  },
  {
   "cell_type": "markdown",
   "id": "9b023d3a-1b56-41e2-b378-e1660b84e711",
   "metadata": {},
   "source": [
    "### Capacity"
   ]
  },
  {
   "cell_type": "code",
   "execution_count": null,
   "id": "c1f7b769-ce46-4290-b494-3a988e961850",
   "metadata": {},
   "outputs": [],
   "source": [
    "%matplotlib agg\n",
    "\n",
    "# Create a list to accumulate geographies for which a thumbnail is generated\n",
    "platformIncludeList = []\n",
    "\n",
    "# Iterate over each geography in data set\n",
    "for geoid in facilities[\"GEOIDFQ\"].unique():\n",
    "    # If the geography is not a MORPC member, skip it. The platform only features members.\n",
    "    if(not geoid in memberList):\n",
    "        continue\n",
    "    \n",
    "    # Extract the data for a single geography\n",
    "    temp = facilities.loc[facilities[\"GEOIDFQ\"] == geoid].copy()\n",
    "\n",
    "    if(temp.empty):\n",
    "        continue\n",
    "        \n",
    "    platformIncludeList.append(geoid)\n",
    "\n",
    "    # Generate a title string\n",
    "    geoName = temp.iloc[0][\"NAME\"]\n",
    "    title = \"Distributed Energy Resources Capacity by Year Opened - {}\".format(geoName)\n",
    "    xlabel = None\n",
    "    ylabel = \"Kilowatts (kW)\"\n",
    "    \n",
    "    # Drop the geography name and type\n",
    "    temp = temp.filter(items=[\"YEAR\",\"FUEL_TYPE\",\"CAPACITY\"], axis=\"columns\")\n",
    "    \n",
    "    # Make the variable names nicer looking\n",
    "    temp = temp.rename(columns={\n",
    "        \"YEAR\":\"Year\",\n",
    "        \"FUEL_TYPE\":\"Fuel type\",\n",
    "        \"CAPACITY\":\"Capacity\"\n",
    "    })\n",
    "\n",
    "    # Pivot to wide format\n",
    "    temp = temp.pivot(index=\"Year\", columns=\"Fuel type\").reset_index()\n",
    "    \n",
    "    # Create and annotate the plot\n",
    "    PLOTWIDTH = 8\n",
    "    fig,ax = plt.subplots(figsize=(PLOTWIDTH,PLOTWIDTH/16*9))\n",
    "\n",
    "    temp.plot.bar(ax=ax, x=\"Year\", y=\"Capacity\", stacked=True, color=colorset)\n",
    "    temp = facilities.loc[facilities[\"GEOIDFQ\"] == geoid].copy()\n",
    "    \n",
    "    ax.set_title(title, fontsize=14)\n",
    "    ax.set_xlabel(xlabel)\n",
    "    ax.set_ylabel(ylabel)\n",
    "    ax.set_yticks([round(tick,0) for tick in ax.get_yticks()])\n",
    "    \n",
    "    handles, labels = ax.get_legend_handles_labels()\n",
    "    labels = [textwrap.fill(label, 15) for label in labels]\n",
    "    legend = ax.legend(handles[::-1], labels[::-1], loc='center left', bbox_to_anchor=(1, 0.5), labelspacing=1)\n",
    "    ax.grid(visible=True, color=\"lightgrey\")\n",
    "    ax.set_axisbelow(True)\n",
    "    \n",
    "    # Format the y-axis labels as integers with comma separators\n",
    "    ax.get_yaxis().set_major_formatter(matplotlib.ticker.FuncFormatter(lambda x, p: format(int(x), ',')))\n",
    "    \n",
    "    # Save the figure to disk as an SVG file\n",
    "    ax.figure.savefig(os.path.join(chartDir, \"capacity-{}.svg\".format(geoid)), bbox_extra_artists=(legend,), bbox_inches='tight')\n",
    "    \n",
    "    plt.close(ax.figure)\n",
    "\n",
    "    excelData = temp[[\"YEAR\",\"FUEL_TYPE\",\"CAPACITY\"]].pivot(index=\"YEAR\", columns=\"FUEL_TYPE\", values=\"CAPACITY\")\n",
    "    excelData = excelData.rename(columns={\n",
    "        \"CAPACITY\":\"Capacity\"\n",
    "    })\n",
    "    excelData.index.name = \"Open year\"\n",
    "    excelData.columns.name = None\n",
    "\n",
    "    writer = pd.ExcelWriter(os.path.join(chartDir, \"capacity-{}.xlsx\".format(geoid)), engine='xlsxwriter')\n",
    "    dataOptions = {\n",
    "        \"numberFormat\": {\n",
    "            'Open year': \"0\",\n",
    "            'Biofuel': \"#,##0.0\",\n",
    "            'Energy Storage': \"#,##0.0\",\n",
    "            'Natural Gas/Propane': \"#,##0.0\",\n",
    "            'Solar': \"#,##0.0\",\n",
    "            'Waste Gas': \"#,##0.0\",\n",
    "            'Wind': \"#,##0.0\"\n",
    "        },\n",
    "        \"columnWidth\": 20\n",
    "    }\n",
    "    chartOptions = {\n",
    "        \"subtype\":\"stacked\",\n",
    "        \"colors\": colorset,\n",
    "        \"titles\": {\n",
    "            \"chartTitle\": title,\n",
    "            \"xTitle\": xlabel,\n",
    "            \"yTitle\": ylabel\n",
    "        },\n",
    "        \"seriesOptions\": [{\"gap\":100} for x in excelData.columns],\n",
    "        \"xAxisOptions\": {\n",
    "            \"num_font\": {\"size\":14},\n",
    "        },\n",
    "        \"yAxisOptions\": {\n",
    "            \"num_font\": {\"size\":14},\n",
    "            \"num_format\": \"#,##0\",\n",
    "        },\n",
    "        \"legendOptions\":{\n",
    "            \"position\":\"bottom\",\n",
    "            \"font\":{\"size\":14}\n",
    "        },\n",
    "        \"sizeOptions\":{\n",
    "            \"x_scale\":1.5,\n",
    "            \"y_scale\":1.5\n",
    "        }\n",
    "    }\n",
    "    morpc.data_chart_to_excel(excelData, writer, chartType=\"column\", dataOptions=dataOptions, chartOptions=chartOptions)\n",
    "    writer.close()    \n",
    "    \n",
    "%matplotlib inline"
   ]
  },
  {
   "cell_type": "markdown",
   "id": "07b0555f-a99e-4297-8623-0aa3de7122df",
   "metadata": {},
   "source": [
    "## Generate Insights catalog content"
   ]
  },
  {
   "cell_type": "markdown",
   "id": "abea4018-3b07-4999-b98b-2edbe1e29238",
   "metadata": {},
   "source": [
    "The content in the Insights platform is controlled by a catalog spreadsheet. Each tile to be displayed in the platform must have a record in the catalog.  This section will create the records for the tiles that display the alternative fuel station data.  Eventually this function will be performed by a separate staging script."
   ]
  },
  {
   "cell_type": "markdown",
   "id": "75c5632a-9833-48ed-96d1-d9a35a4ad7ba",
   "metadata": {},
   "source": [
    "First specify the column names used in the catalog."
   ]
  },
  {
   "cell_type": "code",
   "execution_count": null,
   "id": "43882b7e-d411-4830-b4d2-7698fdd8c4f2",
   "metadata": {},
   "outputs": [],
   "source": [
    "columnNames=[\"TileID\",\"TilesetID\",\"GeographyType\",\"GeographyName\",\"Category\",\"Headline\",\"Commentary\",\"ThumbnailURL\",\"Contributor\",\"Vintage\",\"UpdateInterval\",\"ShareURL\",\"DataProductURL\",\"MoreInformationURL\"]"
   ]
  },
  {
   "cell_type": "markdown",
   "id": "32ecd541-9b63-492f-8450-3b4b120b199b",
   "metadata": {},
   "source": [
    "Create a new dataframe containing only the geographies for which thumbnail images were produced in the section above."
   ]
  },
  {
   "cell_type": "code",
   "execution_count": null,
   "id": "eacdf0ef-e819-450e-9ea1-b454bfc7b431",
   "metadata": {},
   "outputs": [],
   "source": [
    "catalog = facilities.loc[facilities[\"GEOIDFQ\"].isin(platformIncludeList)].copy()"
   ]
  },
  {
   "cell_type": "markdown",
   "id": "5126cea2-2720-420f-9091-ae6123235ddc",
   "metadata": {},
   "source": [
    "Extract only the metadata columns of interest and flatten the data to have only one record per geography. Rename the metadata fields to match the catalog fields."
   ]
  },
  {
   "cell_type": "code",
   "execution_count": null,
   "id": "de1a160b-3b36-4b38-8b7d-125bbb39ec7c",
   "metadata": {},
   "outputs": [],
   "source": [
    "catalog = catalog.filter(items=[\"GEOIDFQ\",\"NAME\",\"GEOTYPE\"], axis=\"columns\") \\\n",
    "    .groupby(\"GEOIDFQ\").first() \\\n",
    "    .reset_index() \\\n",
    "    .rename(columns={\"NAME\":\"GeographyName\",\"GEOTYPE\":\"GeographyType\"})"
   ]
  },
  {
   "cell_type": "markdown",
   "id": "4fe8086d-0802-499a-a1c9-c326896a19a3",
   "metadata": {},
   "source": [
    "Change the GeographyType values to match the schema of the catalog."
   ]
  },
  {
   "cell_type": "code",
   "execution_count": null,
   "id": "e34adc15-65c5-47ab-879a-d71e0d3d5b76",
   "metadata": {},
   "outputs": [],
   "source": [
    "catalog[\"GeographyType\"] = catalog[\"GeographyType\"].map({\n",
    "    \"REGION15\":\"Region\",\n",
    "    \"COUNTY\":\"County\",\n",
    "    \"COUNTY-TOWNSHIP-REMAINDER\":\"Community\",\n",
    "    \"PLACE\":\"Community\"\n",
    "})"
   ]
  },
  {
   "cell_type": "markdown",
   "id": "227a2d03-2f1e-413b-9bdb-a9bd2ff18c80",
   "metadata": {},
   "source": [
    "Populate some placeholder fields."
   ]
  },
  {
   "cell_type": "code",
   "execution_count": null,
   "id": "26cf5684-e5b4-4862-bc8c-80a354dc8545",
   "metadata": {},
   "outputs": [],
   "source": [
    "catalog[\"TileID\"] = None\n",
    "catalog[\"TilesetID\"] = \"TBD-Facilities\"\n",
    "catalog[\"Category\"] = None\n",
    "catalog[\"Headline\"] = \"TBD\"\n",
    "catalog[\"Commentary\"] = \"TBD\""
   ]
  },
  {
   "cell_type": "markdown",
   "id": "e6cf4729-9ad8-466f-b208-515bdbf0f612",
   "metadata": {},
   "source": [
    "Generate the URL for the thumbnail images. These will be hosted in GitHub and will be indexed by GEOIDFQ."
   ]
  },
  {
   "cell_type": "code",
   "execution_count": null,
   "id": "d5236da5-8d79-426a-bcd7-09cbcdc87402",
   "metadata": {},
   "outputs": [],
   "source": [
    "catalog[\"ThumbnailURL\"] = catalog[\"GEOIDFQ\"].apply(lambda geoid:\"https://raw.githubusercontent.com/morpc-insights/renewenergy-der/refs/heads/main/output_data/charts/facilities-{}.svg\".format(geoid))"
   ]
  },
  {
   "cell_type": "markdown",
   "id": "36ba2c86-62e7-4b72-966d-b79f09e72c30",
   "metadata": {},
   "source": [
    "Populate some other simple metadata.  Vintage in this case refers to the year that the content was published in Insights. This is to give readers an idea of how old it is.  UpdateInterval gives them an idea of when to expect the next version. ShareURL is a placeholder for now."
   ]
  },
  {
   "cell_type": "code",
   "execution_count": null,
   "id": "1f2a090b-60b6-4377-b6be-ad01394f326e",
   "metadata": {},
   "outputs": [],
   "source": [
    "catalog[\"Contributor\"] = \"Mid-Ohio Regional Planning Commission\"\n",
    "catalog[\"Vintage\"] = str(datetime.date.today().year)\n",
    "catalog[\"UpdateInterval\"] = \"annually\"\n",
    "catalog[\"ShareURL\"] = None"
   ]
  },
  {
   "cell_type": "markdown",
   "id": "4e976014-ac32-4869-986e-2481b7e9359c",
   "metadata": {},
   "source": [
    "Generate the data product URL.  This points to an ArcGIS Dashboard that accepts URL parameters.  GEOIDFQ is passed as a parameter to tell the app to load the data for a particular geography."
   ]
  },
  {
   "cell_type": "code",
   "execution_count": null,
   "id": "6a425d81-f5d9-4fb3-9649-91541a4ff773",
   "metadata": {},
   "outputs": [],
   "source": [
    "catalog[\"DataProductURL\"] = catalog[\"GEOIDFQ\"].apply(lambda geoid:\"https://www.arcgis.com/apps/dashboards/3f2b48c930294cfda824567333f001fd#geoid={}\".format(geoid))"
   ]
  },
  {
   "cell_type": "markdown",
   "id": "063149cc-624c-4e9b-8116-7e0cfd4fd07a",
   "metadata": {},
   "source": [
    "Generate the URLs that point to the extended commentary pages.  Default to a common page (population.pdf) hosted in GitHub.  Point to specific pages for the 15-county region and for each county."
   ]
  },
  {
   "cell_type": "code",
   "execution_count": null,
   "id": "c8199fc3-2fe8-4079-9c14-90a2280ed077",
   "metadata": {},
   "outputs": [],
   "source": [
    "catalog[\"MoreInformationURL\"] = \"https://morpc1-my.sharepoint.com/:w:/g/personal/aporr_morpc_org/EYb3oBwdBFJNnHr_wHq-rUoBpiSYkdrVfFQ19rW7vJeh8Q?e=NTX9dX\""
   ]
  },
  {
   "cell_type": "markdown",
   "id": "6b61a857-dab2-49ba-8610-1e10715f69f5",
   "metadata": {},
   "source": [
    "Extract only the required columns."
   ]
  },
  {
   "cell_type": "code",
   "execution_count": null,
   "id": "834b3dc3-5da2-4d87-b5a1-0e224099328d",
   "metadata": {},
   "outputs": [],
   "source": [
    "catalog = catalog.filter(items=columnNames, axis=\"columns\")"
   ]
  },
  {
   "cell_type": "markdown",
   "id": "ac478240-bf5c-442f-90ad-f110f4046033",
   "metadata": {},
   "source": [
    "Inspect the listing."
   ]
  },
  {
   "cell_type": "code",
   "execution_count": null,
   "id": "173c04f6-0a80-477c-994e-c717608aa51e",
   "metadata": {},
   "outputs": [],
   "source": [
    "catalog.head()"
   ]
  },
  {
   "cell_type": "code",
   "execution_count": null,
   "id": "eda5e0f9-2e5b-4a8a-8c8e-4aab55a91b84",
   "metadata": {},
   "outputs": [],
   "source": [
    "temp = catalog.copy()"
   ]
  },
  {
   "cell_type": "code",
   "execution_count": null,
   "id": "2522deec-65a2-45a8-929a-6f95ef33eb1a",
   "metadata": {},
   "outputs": [],
   "source": [
    "temp[\"ThumbnailURL\"] = temp[\"ThumbnailURL\"].str.replace(\"facilities-\", \"capacity-\")"
   ]
  },
  {
   "cell_type": "code",
   "execution_count": null,
   "id": "1ceefeba-285f-46c4-bff0-8ceafe646164",
   "metadata": {},
   "outputs": [],
   "source": [
    "temp[\"TilesetID\"] = temp[\"TilesetID\"].str.replace(\"Facilities\", \"Capacity\")"
   ]
  },
  {
   "cell_type": "code",
   "execution_count": null,
   "id": "0605ce02-0f8c-4f7e-a381-8db28b588820",
   "metadata": {},
   "outputs": [],
   "source": [
    "catalog = pd.concat([catalog, temp], axis=\"index\")"
   ]
  },
  {
   "cell_type": "markdown",
   "id": "a9c3080e-e890-46dc-8e7e-31523f4d6d9d",
   "metadata": {},
   "source": [
    "Save the catalog to an Excel spreadsheet."
   ]
  },
  {
   "cell_type": "code",
   "execution_count": null,
   "id": "d1490183-185f-48c8-b7d2-497c0f265613",
   "metadata": {},
   "outputs": [],
   "source": [
    "catalog.to_excel(\"catalog.xlsx\", index=False)"
   ]
  },
  {
   "cell_type": "markdown",
   "id": "71d6a808-be92-4ef6-8ee7-f341d115e974",
   "metadata": {},
   "source": [
    "It is necessary to manually add these records to the master catalog or update the records already therein.  See the following file in GitHub:\n",
    "\n",
    "https://github.com/morpc/morpc-insights/blob/main/catalog/morpc_insights_catalog.xlsx\n"
   ]
  }
 ],
 "metadata": {
  "kernelspec": {
   "display_name": "Python 3 (ipykernel)",
   "language": "python",
   "name": "python3"
  },
  "language_info": {
   "codemirror_mode": {
    "name": "ipython",
    "version": 3
   },
   "file_extension": ".py",
   "mimetype": "text/x-python",
   "name": "python",
   "nbconvert_exporter": "python",
   "pygments_lexer": "ipython3",
   "version": "3.10.12"
  }
 },
 "nbformat": 4,
 "nbformat_minor": 5
}
